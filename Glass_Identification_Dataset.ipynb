{
 "cells": [
  {
   "cell_type": "markdown",
   "id": "bd273053",
   "metadata": {},
   "source": [
    "# Importing Libraries"
   ]
  },
  {
   "cell_type": "code",
   "execution_count": 279,
   "id": "f9aab850",
   "metadata": {},
   "outputs": [],
   "source": [
    "import numpy as np\n",
    "import pandas as pd\n",
    "import matplotlib.pyplot as plt\n",
    "import seaborn as sns\n",
    "from sklearn.naive_bayes import GaussianNB\n",
    "from sklearn.naive_bayes import MultinomialNB\n",
    "from sklearn.neighbors import KNeighborsClassifier\n",
    "from sklearn.tree import DecisionTreeClassifier\n",
    "from sklearn.preprocessing import StandardScaler, MinMaxScaler\n",
    "from sklearn.model_selection import train_test_split,GridSearchCV, cross_val_score\n",
    "from statsmodels.stats.outliers_influence import variance_inflation_factor\n",
    "from sklearn.metrics import classification_report,confusion_matrix,accuracy_score,roc_curve,roc_auc_score\n",
    "import warnings\n",
    "warnings.filterwarnings('ignore')"
   ]
  },
  {
   "cell_type": "markdown",
   "id": "f1288906",
   "metadata": {},
   "source": [
    "# Importing Data "
   ]
  },
  {
   "cell_type": "code",
   "execution_count": 280,
   "id": "f479ee1c",
   "metadata": {},
   "outputs": [
    {
     "data": {
      "text/html": [
       "<div>\n",
       "<style scoped>\n",
       "    .dataframe tbody tr th:only-of-type {\n",
       "        vertical-align: middle;\n",
       "    }\n",
       "\n",
       "    .dataframe tbody tr th {\n",
       "        vertical-align: top;\n",
       "    }\n",
       "\n",
       "    .dataframe thead th {\n",
       "        text-align: right;\n",
       "    }\n",
       "</style>\n",
       "<table border=\"1\" class=\"dataframe\">\n",
       "  <thead>\n",
       "    <tr style=\"text-align: right;\">\n",
       "      <th></th>\n",
       "      <th>0</th>\n",
       "      <th>1</th>\n",
       "      <th>2</th>\n",
       "      <th>3</th>\n",
       "      <th>4</th>\n",
       "      <th>5</th>\n",
       "      <th>6</th>\n",
       "      <th>7</th>\n",
       "      <th>8</th>\n",
       "      <th>9</th>\n",
       "      <th>10</th>\n",
       "    </tr>\n",
       "  </thead>\n",
       "  <tbody>\n",
       "    <tr>\n",
       "      <th>0</th>\n",
       "      <td>1</td>\n",
       "      <td>1.52101</td>\n",
       "      <td>13.64</td>\n",
       "      <td>4.49</td>\n",
       "      <td>1.10</td>\n",
       "      <td>71.78</td>\n",
       "      <td>0.06</td>\n",
       "      <td>8.75</td>\n",
       "      <td>0.00</td>\n",
       "      <td>0.0</td>\n",
       "      <td>1</td>\n",
       "    </tr>\n",
       "    <tr>\n",
       "      <th>1</th>\n",
       "      <td>2</td>\n",
       "      <td>1.51761</td>\n",
       "      <td>13.89</td>\n",
       "      <td>3.60</td>\n",
       "      <td>1.36</td>\n",
       "      <td>72.73</td>\n",
       "      <td>0.48</td>\n",
       "      <td>7.83</td>\n",
       "      <td>0.00</td>\n",
       "      <td>0.0</td>\n",
       "      <td>1</td>\n",
       "    </tr>\n",
       "    <tr>\n",
       "      <th>2</th>\n",
       "      <td>3</td>\n",
       "      <td>1.51618</td>\n",
       "      <td>13.53</td>\n",
       "      <td>3.55</td>\n",
       "      <td>1.54</td>\n",
       "      <td>72.99</td>\n",
       "      <td>0.39</td>\n",
       "      <td>7.78</td>\n",
       "      <td>0.00</td>\n",
       "      <td>0.0</td>\n",
       "      <td>1</td>\n",
       "    </tr>\n",
       "    <tr>\n",
       "      <th>3</th>\n",
       "      <td>4</td>\n",
       "      <td>1.51766</td>\n",
       "      <td>13.21</td>\n",
       "      <td>3.69</td>\n",
       "      <td>1.29</td>\n",
       "      <td>72.61</td>\n",
       "      <td>0.57</td>\n",
       "      <td>8.22</td>\n",
       "      <td>0.00</td>\n",
       "      <td>0.0</td>\n",
       "      <td>1</td>\n",
       "    </tr>\n",
       "    <tr>\n",
       "      <th>4</th>\n",
       "      <td>5</td>\n",
       "      <td>1.51742</td>\n",
       "      <td>13.27</td>\n",
       "      <td>3.62</td>\n",
       "      <td>1.24</td>\n",
       "      <td>73.08</td>\n",
       "      <td>0.55</td>\n",
       "      <td>8.07</td>\n",
       "      <td>0.00</td>\n",
       "      <td>0.0</td>\n",
       "      <td>1</td>\n",
       "    </tr>\n",
       "    <tr>\n",
       "      <th>...</th>\n",
       "      <td>...</td>\n",
       "      <td>...</td>\n",
       "      <td>...</td>\n",
       "      <td>...</td>\n",
       "      <td>...</td>\n",
       "      <td>...</td>\n",
       "      <td>...</td>\n",
       "      <td>...</td>\n",
       "      <td>...</td>\n",
       "      <td>...</td>\n",
       "      <td>...</td>\n",
       "    </tr>\n",
       "    <tr>\n",
       "      <th>209</th>\n",
       "      <td>210</td>\n",
       "      <td>1.51623</td>\n",
       "      <td>14.14</td>\n",
       "      <td>0.00</td>\n",
       "      <td>2.88</td>\n",
       "      <td>72.61</td>\n",
       "      <td>0.08</td>\n",
       "      <td>9.18</td>\n",
       "      <td>1.06</td>\n",
       "      <td>0.0</td>\n",
       "      <td>7</td>\n",
       "    </tr>\n",
       "    <tr>\n",
       "      <th>210</th>\n",
       "      <td>211</td>\n",
       "      <td>1.51685</td>\n",
       "      <td>14.92</td>\n",
       "      <td>0.00</td>\n",
       "      <td>1.99</td>\n",
       "      <td>73.06</td>\n",
       "      <td>0.00</td>\n",
       "      <td>8.40</td>\n",
       "      <td>1.59</td>\n",
       "      <td>0.0</td>\n",
       "      <td>7</td>\n",
       "    </tr>\n",
       "    <tr>\n",
       "      <th>211</th>\n",
       "      <td>212</td>\n",
       "      <td>1.52065</td>\n",
       "      <td>14.36</td>\n",
       "      <td>0.00</td>\n",
       "      <td>2.02</td>\n",
       "      <td>73.42</td>\n",
       "      <td>0.00</td>\n",
       "      <td>8.44</td>\n",
       "      <td>1.64</td>\n",
       "      <td>0.0</td>\n",
       "      <td>7</td>\n",
       "    </tr>\n",
       "    <tr>\n",
       "      <th>212</th>\n",
       "      <td>213</td>\n",
       "      <td>1.51651</td>\n",
       "      <td>14.38</td>\n",
       "      <td>0.00</td>\n",
       "      <td>1.94</td>\n",
       "      <td>73.61</td>\n",
       "      <td>0.00</td>\n",
       "      <td>8.48</td>\n",
       "      <td>1.57</td>\n",
       "      <td>0.0</td>\n",
       "      <td>7</td>\n",
       "    </tr>\n",
       "    <tr>\n",
       "      <th>213</th>\n",
       "      <td>214</td>\n",
       "      <td>1.51711</td>\n",
       "      <td>14.23</td>\n",
       "      <td>0.00</td>\n",
       "      <td>2.08</td>\n",
       "      <td>73.36</td>\n",
       "      <td>0.00</td>\n",
       "      <td>8.62</td>\n",
       "      <td>1.67</td>\n",
       "      <td>0.0</td>\n",
       "      <td>7</td>\n",
       "    </tr>\n",
       "  </tbody>\n",
       "</table>\n",
       "<p>214 rows × 11 columns</p>\n",
       "</div>"
      ],
      "text/plain": [
       "      0        1      2     3     4      5     6     7     8    9   10\n",
       "0      1  1.52101  13.64  4.49  1.10  71.78  0.06  8.75  0.00  0.0   1\n",
       "1      2  1.51761  13.89  3.60  1.36  72.73  0.48  7.83  0.00  0.0   1\n",
       "2      3  1.51618  13.53  3.55  1.54  72.99  0.39  7.78  0.00  0.0   1\n",
       "3      4  1.51766  13.21  3.69  1.29  72.61  0.57  8.22  0.00  0.0   1\n",
       "4      5  1.51742  13.27  3.62  1.24  73.08  0.55  8.07  0.00  0.0   1\n",
       "..   ...      ...    ...   ...   ...    ...   ...   ...   ...  ...  ..\n",
       "209  210  1.51623  14.14  0.00  2.88  72.61  0.08  9.18  1.06  0.0   7\n",
       "210  211  1.51685  14.92  0.00  1.99  73.06  0.00  8.40  1.59  0.0   7\n",
       "211  212  1.52065  14.36  0.00  2.02  73.42  0.00  8.44  1.64  0.0   7\n",
       "212  213  1.51651  14.38  0.00  1.94  73.61  0.00  8.48  1.57  0.0   7\n",
       "213  214  1.51711  14.23  0.00  2.08  73.36  0.00  8.62  1.67  0.0   7\n",
       "\n",
       "[214 rows x 11 columns]"
      ]
     },
     "execution_count": 280,
     "metadata": {},
     "output_type": "execute_result"
    }
   ],
   "source": [
    "df=pd.read_csv(\"https://github.com/dsrscientist/dataset3/raw/main/glass.csv\", header=None)\n",
    "df"
   ]
  },
  {
   "cell_type": "markdown",
   "id": "088fae0b",
   "metadata": {},
   "source": [
    "# EDA"
   ]
  },
  {
   "cell_type": "code",
   "execution_count": 281,
   "id": "ce15f9f5",
   "metadata": {},
   "outputs": [
    {
     "data": {
      "text/plain": [
       "Int64Index([0, 1, 2, 3, 4, 5, 6, 7, 8, 9, 10], dtype='int64')"
      ]
     },
     "execution_count": 281,
     "metadata": {},
     "output_type": "execute_result"
    }
   ],
   "source": [
    "df.columns"
   ]
  },
  {
   "cell_type": "code",
   "execution_count": 282,
   "id": "3b399f53",
   "metadata": {},
   "outputs": [
    {
     "data": {
      "text/plain": [
       "['Id_number',\n",
       " 'refractive_index',\n",
       " 'Sodium',\n",
       " 'Magnesium',\n",
       " 'Aluminum',\n",
       " 'Silicon',\n",
       " 'Potassium',\n",
       " 'Calcium',\n",
       " 'Barium',\n",
       " 'Iron',\n",
       " 'Type_glass']"
      ]
     },
     "execution_count": 282,
     "metadata": {},
     "output_type": "execute_result"
    }
   ],
   "source": [
    "columns=[\"Id_number\",\"refractive_index\",\"Sodium\",\"Magnesium\",\"Aluminum\",\"Silicon\",\"Potassium\",\n",
    "\"Calcium\",\"Barium\",\"Iron\",\"Type_glass\"]\n",
    "columns"
   ]
  },
  {
   "cell_type": "code",
   "execution_count": 283,
   "id": "49ea22ec",
   "metadata": {},
   "outputs": [],
   "source": [
    "df.columns=columns"
   ]
  },
  {
   "cell_type": "code",
   "execution_count": 284,
   "id": "85637afb",
   "metadata": {},
   "outputs": [
    {
     "data": {
      "text/plain": [
       "Id_number             int64\n",
       "refractive_index    float64\n",
       "Sodium              float64\n",
       "Magnesium           float64\n",
       "Aluminum            float64\n",
       "Silicon             float64\n",
       "Potassium           float64\n",
       "Calcium             float64\n",
       "Barium              float64\n",
       "Iron                float64\n",
       "Type_glass            int64\n",
       "dtype: object"
      ]
     },
     "execution_count": 284,
     "metadata": {},
     "output_type": "execute_result"
    }
   ],
   "source": [
    "df.dtypes"
   ]
  },
  {
   "cell_type": "code",
   "execution_count": 285,
   "id": "bc2d6608",
   "metadata": {},
   "outputs": [
    {
     "data": {
      "text/html": [
       "<div>\n",
       "<style scoped>\n",
       "    .dataframe tbody tr th:only-of-type {\n",
       "        vertical-align: middle;\n",
       "    }\n",
       "\n",
       "    .dataframe tbody tr th {\n",
       "        vertical-align: top;\n",
       "    }\n",
       "\n",
       "    .dataframe thead th {\n",
       "        text-align: right;\n",
       "    }\n",
       "</style>\n",
       "<table border=\"1\" class=\"dataframe\">\n",
       "  <thead>\n",
       "    <tr style=\"text-align: right;\">\n",
       "      <th></th>\n",
       "      <th>Id_number</th>\n",
       "      <th>refractive_index</th>\n",
       "      <th>Sodium</th>\n",
       "      <th>Magnesium</th>\n",
       "      <th>Aluminum</th>\n",
       "      <th>Silicon</th>\n",
       "      <th>Potassium</th>\n",
       "      <th>Calcium</th>\n",
       "      <th>Barium</th>\n",
       "      <th>Iron</th>\n",
       "      <th>Type_glass</th>\n",
       "    </tr>\n",
       "  </thead>\n",
       "  <tbody>\n",
       "    <tr>\n",
       "      <th>0</th>\n",
       "      <td>1</td>\n",
       "      <td>1.52101</td>\n",
       "      <td>13.64</td>\n",
       "      <td>4.49</td>\n",
       "      <td>1.10</td>\n",
       "      <td>71.78</td>\n",
       "      <td>0.06</td>\n",
       "      <td>8.75</td>\n",
       "      <td>0.0</td>\n",
       "      <td>0.0</td>\n",
       "      <td>1</td>\n",
       "    </tr>\n",
       "    <tr>\n",
       "      <th>1</th>\n",
       "      <td>2</td>\n",
       "      <td>1.51761</td>\n",
       "      <td>13.89</td>\n",
       "      <td>3.60</td>\n",
       "      <td>1.36</td>\n",
       "      <td>72.73</td>\n",
       "      <td>0.48</td>\n",
       "      <td>7.83</td>\n",
       "      <td>0.0</td>\n",
       "      <td>0.0</td>\n",
       "      <td>1</td>\n",
       "    </tr>\n",
       "    <tr>\n",
       "      <th>2</th>\n",
       "      <td>3</td>\n",
       "      <td>1.51618</td>\n",
       "      <td>13.53</td>\n",
       "      <td>3.55</td>\n",
       "      <td>1.54</td>\n",
       "      <td>72.99</td>\n",
       "      <td>0.39</td>\n",
       "      <td>7.78</td>\n",
       "      <td>0.0</td>\n",
       "      <td>0.0</td>\n",
       "      <td>1</td>\n",
       "    </tr>\n",
       "    <tr>\n",
       "      <th>3</th>\n",
       "      <td>4</td>\n",
       "      <td>1.51766</td>\n",
       "      <td>13.21</td>\n",
       "      <td>3.69</td>\n",
       "      <td>1.29</td>\n",
       "      <td>72.61</td>\n",
       "      <td>0.57</td>\n",
       "      <td>8.22</td>\n",
       "      <td>0.0</td>\n",
       "      <td>0.0</td>\n",
       "      <td>1</td>\n",
       "    </tr>\n",
       "    <tr>\n",
       "      <th>4</th>\n",
       "      <td>5</td>\n",
       "      <td>1.51742</td>\n",
       "      <td>13.27</td>\n",
       "      <td>3.62</td>\n",
       "      <td>1.24</td>\n",
       "      <td>73.08</td>\n",
       "      <td>0.55</td>\n",
       "      <td>8.07</td>\n",
       "      <td>0.0</td>\n",
       "      <td>0.0</td>\n",
       "      <td>1</td>\n",
       "    </tr>\n",
       "  </tbody>\n",
       "</table>\n",
       "</div>"
      ],
      "text/plain": [
       "   Id_number  refractive_index  Sodium  Magnesium  Aluminum  Silicon  \\\n",
       "0          1           1.52101   13.64       4.49      1.10    71.78   \n",
       "1          2           1.51761   13.89       3.60      1.36    72.73   \n",
       "2          3           1.51618   13.53       3.55      1.54    72.99   \n",
       "3          4           1.51766   13.21       3.69      1.29    72.61   \n",
       "4          5           1.51742   13.27       3.62      1.24    73.08   \n",
       "\n",
       "   Potassium  Calcium  Barium  Iron  Type_glass  \n",
       "0       0.06     8.75     0.0   0.0           1  \n",
       "1       0.48     7.83     0.0   0.0           1  \n",
       "2       0.39     7.78     0.0   0.0           1  \n",
       "3       0.57     8.22     0.0   0.0           1  \n",
       "4       0.55     8.07     0.0   0.0           1  "
      ]
     },
     "execution_count": 285,
     "metadata": {},
     "output_type": "execute_result"
    }
   ],
   "source": [
    "df.head()"
   ]
  },
  {
   "cell_type": "code",
   "execution_count": 286,
   "id": "76e960aa",
   "metadata": {},
   "outputs": [
    {
     "name": "stdout",
     "output_type": "stream",
     "text": [
      "<class 'pandas.core.frame.DataFrame'>\n",
      "RangeIndex: 214 entries, 0 to 213\n",
      "Data columns (total 11 columns):\n",
      " #   Column            Non-Null Count  Dtype  \n",
      "---  ------            --------------  -----  \n",
      " 0   Id_number         214 non-null    int64  \n",
      " 1   refractive_index  214 non-null    float64\n",
      " 2   Sodium            214 non-null    float64\n",
      " 3   Magnesium         214 non-null    float64\n",
      " 4   Aluminum          214 non-null    float64\n",
      " 5   Silicon           214 non-null    float64\n",
      " 6   Potassium         214 non-null    float64\n",
      " 7   Calcium           214 non-null    float64\n",
      " 8   Barium            214 non-null    float64\n",
      " 9   Iron              214 non-null    float64\n",
      " 10  Type_glass        214 non-null    int64  \n",
      "dtypes: float64(9), int64(2)\n",
      "memory usage: 18.5 KB\n"
     ]
    }
   ],
   "source": [
    "df.info()"
   ]
  },
  {
   "cell_type": "code",
   "execution_count": 287,
   "id": "8d60c836",
   "metadata": {},
   "outputs": [
    {
     "data": {
      "text/plain": [
       "0"
      ]
     },
     "execution_count": 287,
     "metadata": {},
     "output_type": "execute_result"
    }
   ],
   "source": [
    "df.duplicated().sum()"
   ]
  },
  {
   "cell_type": "code",
   "execution_count": 288,
   "id": "1452035e",
   "metadata": {},
   "outputs": [
    {
     "data": {
      "text/plain": [
       "(214, 11)"
      ]
     },
     "execution_count": 288,
     "metadata": {},
     "output_type": "execute_result"
    }
   ],
   "source": [
    "df.shape"
   ]
  },
  {
   "cell_type": "code",
   "execution_count": 289,
   "id": "a9fd7899",
   "metadata": {},
   "outputs": [
    {
     "data": {
      "text/plain": [
       "Id_number           0\n",
       "refractive_index    0\n",
       "Sodium              0\n",
       "Magnesium           0\n",
       "Aluminum            0\n",
       "Silicon             0\n",
       "Potassium           0\n",
       "Calcium             0\n",
       "Barium              0\n",
       "Iron                0\n",
       "Type_glass          0\n",
       "dtype: int64"
      ]
     },
     "execution_count": 289,
     "metadata": {},
     "output_type": "execute_result"
    }
   ],
   "source": [
    "df.isnull().sum()"
   ]
  },
  {
   "cell_type": "code",
   "execution_count": 290,
   "id": "61692846",
   "metadata": {},
   "outputs": [],
   "source": [
    "# df.loc[df[\"Type_glass\"]==\" \"]"
   ]
  },
  {
   "cell_type": "markdown",
   "id": "dd77b456",
   "metadata": {},
   "source": [
    "# Use describe function for checking Count,Mean,Outliers"
   ]
  },
  {
   "cell_type": "code",
   "execution_count": 291,
   "id": "e9ce98df",
   "metadata": {},
   "outputs": [
    {
     "data": {
      "text/html": [
       "<div>\n",
       "<style scoped>\n",
       "    .dataframe tbody tr th:only-of-type {\n",
       "        vertical-align: middle;\n",
       "    }\n",
       "\n",
       "    .dataframe tbody tr th {\n",
       "        vertical-align: top;\n",
       "    }\n",
       "\n",
       "    .dataframe thead th {\n",
       "        text-align: right;\n",
       "    }\n",
       "</style>\n",
       "<table border=\"1\" class=\"dataframe\">\n",
       "  <thead>\n",
       "    <tr style=\"text-align: right;\">\n",
       "      <th></th>\n",
       "      <th>Id_number</th>\n",
       "      <th>refractive_index</th>\n",
       "      <th>Sodium</th>\n",
       "      <th>Magnesium</th>\n",
       "      <th>Aluminum</th>\n",
       "      <th>Silicon</th>\n",
       "      <th>Potassium</th>\n",
       "      <th>Calcium</th>\n",
       "      <th>Barium</th>\n",
       "      <th>Iron</th>\n",
       "      <th>Type_glass</th>\n",
       "    </tr>\n",
       "  </thead>\n",
       "  <tbody>\n",
       "    <tr>\n",
       "      <th>count</th>\n",
       "      <td>214.000000</td>\n",
       "      <td>214.000000</td>\n",
       "      <td>214.000000</td>\n",
       "      <td>214.000000</td>\n",
       "      <td>214.000000</td>\n",
       "      <td>214.000000</td>\n",
       "      <td>214.000000</td>\n",
       "      <td>214.000000</td>\n",
       "      <td>214.000000</td>\n",
       "      <td>214.000000</td>\n",
       "      <td>214.000000</td>\n",
       "    </tr>\n",
       "    <tr>\n",
       "      <th>mean</th>\n",
       "      <td>107.500000</td>\n",
       "      <td>1.518365</td>\n",
       "      <td>13.407850</td>\n",
       "      <td>2.684533</td>\n",
       "      <td>1.444907</td>\n",
       "      <td>72.650935</td>\n",
       "      <td>0.497056</td>\n",
       "      <td>8.956963</td>\n",
       "      <td>0.175047</td>\n",
       "      <td>0.057009</td>\n",
       "      <td>2.780374</td>\n",
       "    </tr>\n",
       "    <tr>\n",
       "      <th>std</th>\n",
       "      <td>61.920648</td>\n",
       "      <td>0.003037</td>\n",
       "      <td>0.816604</td>\n",
       "      <td>1.442408</td>\n",
       "      <td>0.499270</td>\n",
       "      <td>0.774546</td>\n",
       "      <td>0.652192</td>\n",
       "      <td>1.423153</td>\n",
       "      <td>0.497219</td>\n",
       "      <td>0.097439</td>\n",
       "      <td>2.103739</td>\n",
       "    </tr>\n",
       "    <tr>\n",
       "      <th>min</th>\n",
       "      <td>1.000000</td>\n",
       "      <td>1.511150</td>\n",
       "      <td>10.730000</td>\n",
       "      <td>0.000000</td>\n",
       "      <td>0.290000</td>\n",
       "      <td>69.810000</td>\n",
       "      <td>0.000000</td>\n",
       "      <td>5.430000</td>\n",
       "      <td>0.000000</td>\n",
       "      <td>0.000000</td>\n",
       "      <td>1.000000</td>\n",
       "    </tr>\n",
       "    <tr>\n",
       "      <th>25%</th>\n",
       "      <td>54.250000</td>\n",
       "      <td>1.516522</td>\n",
       "      <td>12.907500</td>\n",
       "      <td>2.115000</td>\n",
       "      <td>1.190000</td>\n",
       "      <td>72.280000</td>\n",
       "      <td>0.122500</td>\n",
       "      <td>8.240000</td>\n",
       "      <td>0.000000</td>\n",
       "      <td>0.000000</td>\n",
       "      <td>1.000000</td>\n",
       "    </tr>\n",
       "    <tr>\n",
       "      <th>50%</th>\n",
       "      <td>107.500000</td>\n",
       "      <td>1.517680</td>\n",
       "      <td>13.300000</td>\n",
       "      <td>3.480000</td>\n",
       "      <td>1.360000</td>\n",
       "      <td>72.790000</td>\n",
       "      <td>0.555000</td>\n",
       "      <td>8.600000</td>\n",
       "      <td>0.000000</td>\n",
       "      <td>0.000000</td>\n",
       "      <td>2.000000</td>\n",
       "    </tr>\n",
       "    <tr>\n",
       "      <th>75%</th>\n",
       "      <td>160.750000</td>\n",
       "      <td>1.519157</td>\n",
       "      <td>13.825000</td>\n",
       "      <td>3.600000</td>\n",
       "      <td>1.630000</td>\n",
       "      <td>73.087500</td>\n",
       "      <td>0.610000</td>\n",
       "      <td>9.172500</td>\n",
       "      <td>0.000000</td>\n",
       "      <td>0.100000</td>\n",
       "      <td>3.000000</td>\n",
       "    </tr>\n",
       "    <tr>\n",
       "      <th>max</th>\n",
       "      <td>214.000000</td>\n",
       "      <td>1.533930</td>\n",
       "      <td>17.380000</td>\n",
       "      <td>4.490000</td>\n",
       "      <td>3.500000</td>\n",
       "      <td>75.410000</td>\n",
       "      <td>6.210000</td>\n",
       "      <td>16.190000</td>\n",
       "      <td>3.150000</td>\n",
       "      <td>0.510000</td>\n",
       "      <td>7.000000</td>\n",
       "    </tr>\n",
       "  </tbody>\n",
       "</table>\n",
       "</div>"
      ],
      "text/plain": [
       "        Id_number  refractive_index      Sodium   Magnesium    Aluminum  \\\n",
       "count  214.000000        214.000000  214.000000  214.000000  214.000000   \n",
       "mean   107.500000          1.518365   13.407850    2.684533    1.444907   \n",
       "std     61.920648          0.003037    0.816604    1.442408    0.499270   \n",
       "min      1.000000          1.511150   10.730000    0.000000    0.290000   \n",
       "25%     54.250000          1.516522   12.907500    2.115000    1.190000   \n",
       "50%    107.500000          1.517680   13.300000    3.480000    1.360000   \n",
       "75%    160.750000          1.519157   13.825000    3.600000    1.630000   \n",
       "max    214.000000          1.533930   17.380000    4.490000    3.500000   \n",
       "\n",
       "          Silicon   Potassium     Calcium      Barium        Iron  Type_glass  \n",
       "count  214.000000  214.000000  214.000000  214.000000  214.000000  214.000000  \n",
       "mean    72.650935    0.497056    8.956963    0.175047    0.057009    2.780374  \n",
       "std      0.774546    0.652192    1.423153    0.497219    0.097439    2.103739  \n",
       "min     69.810000    0.000000    5.430000    0.000000    0.000000    1.000000  \n",
       "25%     72.280000    0.122500    8.240000    0.000000    0.000000    1.000000  \n",
       "50%     72.790000    0.555000    8.600000    0.000000    0.000000    2.000000  \n",
       "75%     73.087500    0.610000    9.172500    0.000000    0.100000    3.000000  \n",
       "max     75.410000    6.210000   16.190000    3.150000    0.510000    7.000000  "
      ]
     },
     "execution_count": 291,
     "metadata": {},
     "output_type": "execute_result"
    }
   ],
   "source": [
    "df.describe()"
   ]
  },
  {
   "cell_type": "code",
   "execution_count": 292,
   "id": "4b8940db",
   "metadata": {},
   "outputs": [
    {
     "data": {
      "text/plain": [
       "array([1, 2, 3, 5, 6, 7], dtype=int64)"
      ]
     },
     "execution_count": 292,
     "metadata": {},
     "output_type": "execute_result"
    }
   ],
   "source": [
    "df[\"Type_glass\"].unique()"
   ]
  },
  {
   "cell_type": "markdown",
   "id": "7a01dd39",
   "metadata": {},
   "source": [
    "# check the correlation "
   ]
  },
  {
   "cell_type": "code",
   "execution_count": 293,
   "id": "e840b0df",
   "metadata": {},
   "outputs": [
    {
     "data": {
      "text/html": [
       "<div>\n",
       "<style scoped>\n",
       "    .dataframe tbody tr th:only-of-type {\n",
       "        vertical-align: middle;\n",
       "    }\n",
       "\n",
       "    .dataframe tbody tr th {\n",
       "        vertical-align: top;\n",
       "    }\n",
       "\n",
       "    .dataframe thead th {\n",
       "        text-align: right;\n",
       "    }\n",
       "</style>\n",
       "<table border=\"1\" class=\"dataframe\">\n",
       "  <thead>\n",
       "    <tr style=\"text-align: right;\">\n",
       "      <th></th>\n",
       "      <th>Id_number</th>\n",
       "      <th>refractive_index</th>\n",
       "      <th>Sodium</th>\n",
       "      <th>Magnesium</th>\n",
       "      <th>Aluminum</th>\n",
       "      <th>Silicon</th>\n",
       "      <th>Potassium</th>\n",
       "      <th>Calcium</th>\n",
       "      <th>Barium</th>\n",
       "      <th>Iron</th>\n",
       "      <th>Type_glass</th>\n",
       "    </tr>\n",
       "  </thead>\n",
       "  <tbody>\n",
       "    <tr>\n",
       "      <th>Id_number</th>\n",
       "      <td>1.000000</td>\n",
       "      <td>-0.072209</td>\n",
       "      <td>0.375722</td>\n",
       "      <td>-0.650328</td>\n",
       "      <td>0.490113</td>\n",
       "      <td>0.061232</td>\n",
       "      <td>0.003149</td>\n",
       "      <td>0.090800</td>\n",
       "      <td>0.451001</td>\n",
       "      <td>-0.072794</td>\n",
       "      <td>0.877357</td>\n",
       "    </tr>\n",
       "    <tr>\n",
       "      <th>refractive_index</th>\n",
       "      <td>-0.072209</td>\n",
       "      <td>1.000000</td>\n",
       "      <td>-0.191885</td>\n",
       "      <td>-0.122274</td>\n",
       "      <td>-0.407326</td>\n",
       "      <td>-0.542052</td>\n",
       "      <td>-0.289833</td>\n",
       "      <td>0.810403</td>\n",
       "      <td>-0.000386</td>\n",
       "      <td>0.143010</td>\n",
       "      <td>-0.164237</td>\n",
       "    </tr>\n",
       "    <tr>\n",
       "      <th>Sodium</th>\n",
       "      <td>0.375722</td>\n",
       "      <td>-0.191885</td>\n",
       "      <td>1.000000</td>\n",
       "      <td>-0.273732</td>\n",
       "      <td>0.156794</td>\n",
       "      <td>-0.069809</td>\n",
       "      <td>-0.266087</td>\n",
       "      <td>-0.275442</td>\n",
       "      <td>0.326603</td>\n",
       "      <td>-0.241346</td>\n",
       "      <td>0.502898</td>\n",
       "    </tr>\n",
       "    <tr>\n",
       "      <th>Magnesium</th>\n",
       "      <td>-0.650328</td>\n",
       "      <td>-0.122274</td>\n",
       "      <td>-0.273732</td>\n",
       "      <td>1.000000</td>\n",
       "      <td>-0.481799</td>\n",
       "      <td>-0.165927</td>\n",
       "      <td>0.005396</td>\n",
       "      <td>-0.443750</td>\n",
       "      <td>-0.492262</td>\n",
       "      <td>0.083060</td>\n",
       "      <td>-0.744993</td>\n",
       "    </tr>\n",
       "    <tr>\n",
       "      <th>Aluminum</th>\n",
       "      <td>0.490113</td>\n",
       "      <td>-0.407326</td>\n",
       "      <td>0.156794</td>\n",
       "      <td>-0.481799</td>\n",
       "      <td>1.000000</td>\n",
       "      <td>-0.005524</td>\n",
       "      <td>0.325958</td>\n",
       "      <td>-0.259592</td>\n",
       "      <td>0.479404</td>\n",
       "      <td>-0.074402</td>\n",
       "      <td>0.598829</td>\n",
       "    </tr>\n",
       "    <tr>\n",
       "      <th>Silicon</th>\n",
       "      <td>0.061232</td>\n",
       "      <td>-0.542052</td>\n",
       "      <td>-0.069809</td>\n",
       "      <td>-0.165927</td>\n",
       "      <td>-0.005524</td>\n",
       "      <td>1.000000</td>\n",
       "      <td>-0.193331</td>\n",
       "      <td>-0.208732</td>\n",
       "      <td>-0.102151</td>\n",
       "      <td>-0.094201</td>\n",
       "      <td>0.151565</td>\n",
       "    </tr>\n",
       "    <tr>\n",
       "      <th>Potassium</th>\n",
       "      <td>0.003149</td>\n",
       "      <td>-0.289833</td>\n",
       "      <td>-0.266087</td>\n",
       "      <td>0.005396</td>\n",
       "      <td>0.325958</td>\n",
       "      <td>-0.193331</td>\n",
       "      <td>1.000000</td>\n",
       "      <td>-0.317836</td>\n",
       "      <td>-0.042618</td>\n",
       "      <td>-0.007719</td>\n",
       "      <td>-0.010054</td>\n",
       "    </tr>\n",
       "    <tr>\n",
       "      <th>Calcium</th>\n",
       "      <td>0.090800</td>\n",
       "      <td>0.810403</td>\n",
       "      <td>-0.275442</td>\n",
       "      <td>-0.443750</td>\n",
       "      <td>-0.259592</td>\n",
       "      <td>-0.208732</td>\n",
       "      <td>-0.317836</td>\n",
       "      <td>1.000000</td>\n",
       "      <td>-0.112841</td>\n",
       "      <td>0.124968</td>\n",
       "      <td>0.000952</td>\n",
       "    </tr>\n",
       "    <tr>\n",
       "      <th>Barium</th>\n",
       "      <td>0.451001</td>\n",
       "      <td>-0.000386</td>\n",
       "      <td>0.326603</td>\n",
       "      <td>-0.492262</td>\n",
       "      <td>0.479404</td>\n",
       "      <td>-0.102151</td>\n",
       "      <td>-0.042618</td>\n",
       "      <td>-0.112841</td>\n",
       "      <td>1.000000</td>\n",
       "      <td>-0.058692</td>\n",
       "      <td>0.575161</td>\n",
       "    </tr>\n",
       "    <tr>\n",
       "      <th>Iron</th>\n",
       "      <td>-0.072794</td>\n",
       "      <td>0.143010</td>\n",
       "      <td>-0.241346</td>\n",
       "      <td>0.083060</td>\n",
       "      <td>-0.074402</td>\n",
       "      <td>-0.094201</td>\n",
       "      <td>-0.007719</td>\n",
       "      <td>0.124968</td>\n",
       "      <td>-0.058692</td>\n",
       "      <td>1.000000</td>\n",
       "      <td>-0.188278</td>\n",
       "    </tr>\n",
       "    <tr>\n",
       "      <th>Type_glass</th>\n",
       "      <td>0.877357</td>\n",
       "      <td>-0.164237</td>\n",
       "      <td>0.502898</td>\n",
       "      <td>-0.744993</td>\n",
       "      <td>0.598829</td>\n",
       "      <td>0.151565</td>\n",
       "      <td>-0.010054</td>\n",
       "      <td>0.000952</td>\n",
       "      <td>0.575161</td>\n",
       "      <td>-0.188278</td>\n",
       "      <td>1.000000</td>\n",
       "    </tr>\n",
       "  </tbody>\n",
       "</table>\n",
       "</div>"
      ],
      "text/plain": [
       "                  Id_number  refractive_index    Sodium  Magnesium  Aluminum  \\\n",
       "Id_number          1.000000         -0.072209  0.375722  -0.650328  0.490113   \n",
       "refractive_index  -0.072209          1.000000 -0.191885  -0.122274 -0.407326   \n",
       "Sodium             0.375722         -0.191885  1.000000  -0.273732  0.156794   \n",
       "Magnesium         -0.650328         -0.122274 -0.273732   1.000000 -0.481799   \n",
       "Aluminum           0.490113         -0.407326  0.156794  -0.481799  1.000000   \n",
       "Silicon            0.061232         -0.542052 -0.069809  -0.165927 -0.005524   \n",
       "Potassium          0.003149         -0.289833 -0.266087   0.005396  0.325958   \n",
       "Calcium            0.090800          0.810403 -0.275442  -0.443750 -0.259592   \n",
       "Barium             0.451001         -0.000386  0.326603  -0.492262  0.479404   \n",
       "Iron              -0.072794          0.143010 -0.241346   0.083060 -0.074402   \n",
       "Type_glass         0.877357         -0.164237  0.502898  -0.744993  0.598829   \n",
       "\n",
       "                   Silicon  Potassium   Calcium    Barium      Iron  \\\n",
       "Id_number         0.061232   0.003149  0.090800  0.451001 -0.072794   \n",
       "refractive_index -0.542052  -0.289833  0.810403 -0.000386  0.143010   \n",
       "Sodium           -0.069809  -0.266087 -0.275442  0.326603 -0.241346   \n",
       "Magnesium        -0.165927   0.005396 -0.443750 -0.492262  0.083060   \n",
       "Aluminum         -0.005524   0.325958 -0.259592  0.479404 -0.074402   \n",
       "Silicon           1.000000  -0.193331 -0.208732 -0.102151 -0.094201   \n",
       "Potassium        -0.193331   1.000000 -0.317836 -0.042618 -0.007719   \n",
       "Calcium          -0.208732  -0.317836  1.000000 -0.112841  0.124968   \n",
       "Barium           -0.102151  -0.042618 -0.112841  1.000000 -0.058692   \n",
       "Iron             -0.094201  -0.007719  0.124968 -0.058692  1.000000   \n",
       "Type_glass        0.151565  -0.010054  0.000952  0.575161 -0.188278   \n",
       "\n",
       "                  Type_glass  \n",
       "Id_number           0.877357  \n",
       "refractive_index   -0.164237  \n",
       "Sodium              0.502898  \n",
       "Magnesium          -0.744993  \n",
       "Aluminum            0.598829  \n",
       "Silicon             0.151565  \n",
       "Potassium          -0.010054  \n",
       "Calcium             0.000952  \n",
       "Barium              0.575161  \n",
       "Iron               -0.188278  \n",
       "Type_glass          1.000000  "
      ]
     },
     "execution_count": 293,
     "metadata": {},
     "output_type": "execute_result"
    }
   ],
   "source": [
    "df.corr()"
   ]
  },
  {
   "cell_type": "code",
   "execution_count": 294,
   "id": "e49fe61b",
   "metadata": {},
   "outputs": [
    {
     "data": {
      "text/plain": [
       "<AxesSubplot: >"
      ]
     },
     "execution_count": 294,
     "metadata": {},
     "output_type": "execute_result"
    },
    {
     "data": {
      "image/png": "[encoded data removed]",
      "text/plain": [
       "<Figure size 1000x500 with 2 Axes>"
      ]
     },
     "metadata": {},
     "output_type": "display_data"
    }
   ],
   "source": [
    "plt.figure(figsize=(10,5))\n",
    "sns.heatmap(df.corr(),annot=True,fmt='.2f')"
   ]
  },
  {
   "cell_type": "code",
   "execution_count": 295,
   "id": "1188bfc4",
   "metadata": {},
   "outputs": [
    {
     "data": {
      "text/plain": [
       "Magnesium          -0.744993\n",
       "Iron               -0.188278\n",
       "refractive_index   -0.164237\n",
       "Potassium          -0.010054\n",
       "Calcium             0.000952\n",
       "Silicon             0.151565\n",
       "Sodium              0.502898\n",
       "Barium              0.575161\n",
       "Aluminum            0.598829\n",
       "Id_number           0.877357\n",
       "Type_glass          1.000000\n",
       "Name: Type_glass, dtype: float64"
      ]
     },
     "execution_count": 295,
     "metadata": {},
     "output_type": "execute_result"
    }
   ],
   "source": [
    "df.corr()[\"Type_glass\"].sort_values()"
   ]
  },
  {
   "cell_type": "markdown",
   "id": "a2968640",
   "metadata": {},
   "source": [
    "Max correlation-0.877357  \n",
    "Min correlation-0.744993"
   ]
  },
  {
   "cell_type": "code",
   "execution_count": 296,
   "id": "135e8572",
   "metadata": {},
   "outputs": [
    {
     "data": {
      "image/png": "[encoded data removed]",
      "text/plain": [
       "<Figure size 2200x700 with 1 Axes>"
      ]
     },
     "metadata": {},
     "output_type": "display_data"
    }
   ],
   "source": [
    "plt.figure(figsize=(22,7))\n",
    "df.corr()[\"Type_glass\"].sort_values(ascending=False).drop([\"Type_glass\"]).plot(kind='bar',color=\"c\")\n",
    "plt.xlabel(\"feature\",fontsize=14)\n",
    "plt.ylabel(\"column with target names\",fontsize=14)\n",
    "plt.title('Correlation',fontsize=25)\n",
    "plt.show()"
   ]
  },
  {
   "cell_type": "code",
   "execution_count": 297,
   "id": "d13b6bdd",
   "metadata": {},
   "outputs": [
    {
     "data": {
      "text/html": [
       "<div>\n",
       "<style scoped>\n",
       "    .dataframe tbody tr th:only-of-type {\n",
       "        vertical-align: middle;\n",
       "    }\n",
       "\n",
       "    .dataframe tbody tr th {\n",
       "        vertical-align: top;\n",
       "    }\n",
       "\n",
       "    .dataframe thead th {\n",
       "        text-align: right;\n",
       "    }\n",
       "</style>\n",
       "<table border=\"1\" class=\"dataframe\">\n",
       "  <thead>\n",
       "    <tr style=\"text-align: right;\">\n",
       "      <th></th>\n",
       "      <th>Id_number</th>\n",
       "      <th>refractive_index</th>\n",
       "      <th>Sodium</th>\n",
       "      <th>Magnesium</th>\n",
       "      <th>Aluminum</th>\n",
       "      <th>Silicon</th>\n",
       "      <th>Potassium</th>\n",
       "      <th>Calcium</th>\n",
       "      <th>Barium</th>\n",
       "      <th>Iron</th>\n",
       "    </tr>\n",
       "  </thead>\n",
       "  <tbody>\n",
       "    <tr>\n",
       "      <th>0</th>\n",
       "      <td>1</td>\n",
       "      <td>1.52101</td>\n",
       "      <td>13.64</td>\n",
       "      <td>4.49</td>\n",
       "      <td>1.10</td>\n",
       "      <td>71.78</td>\n",
       "      <td>0.06</td>\n",
       "      <td>8.75</td>\n",
       "      <td>0.00</td>\n",
       "      <td>0.0</td>\n",
       "    </tr>\n",
       "    <tr>\n",
       "      <th>1</th>\n",
       "      <td>2</td>\n",
       "      <td>1.51761</td>\n",
       "      <td>13.89</td>\n",
       "      <td>3.60</td>\n",
       "      <td>1.36</td>\n",
       "      <td>72.73</td>\n",
       "      <td>0.48</td>\n",
       "      <td>7.83</td>\n",
       "      <td>0.00</td>\n",
       "      <td>0.0</td>\n",
       "    </tr>\n",
       "    <tr>\n",
       "      <th>2</th>\n",
       "      <td>3</td>\n",
       "      <td>1.51618</td>\n",
       "      <td>13.53</td>\n",
       "      <td>3.55</td>\n",
       "      <td>1.54</td>\n",
       "      <td>72.99</td>\n",
       "      <td>0.39</td>\n",
       "      <td>7.78</td>\n",
       "      <td>0.00</td>\n",
       "      <td>0.0</td>\n",
       "    </tr>\n",
       "    <tr>\n",
       "      <th>3</th>\n",
       "      <td>4</td>\n",
       "      <td>1.51766</td>\n",
       "      <td>13.21</td>\n",
       "      <td>3.69</td>\n",
       "      <td>1.29</td>\n",
       "      <td>72.61</td>\n",
       "      <td>0.57</td>\n",
       "      <td>8.22</td>\n",
       "      <td>0.00</td>\n",
       "      <td>0.0</td>\n",
       "    </tr>\n",
       "    <tr>\n",
       "      <th>4</th>\n",
       "      <td>5</td>\n",
       "      <td>1.51742</td>\n",
       "      <td>13.27</td>\n",
       "      <td>3.62</td>\n",
       "      <td>1.24</td>\n",
       "      <td>73.08</td>\n",
       "      <td>0.55</td>\n",
       "      <td>8.07</td>\n",
       "      <td>0.00</td>\n",
       "      <td>0.0</td>\n",
       "    </tr>\n",
       "    <tr>\n",
       "      <th>...</th>\n",
       "      <td>...</td>\n",
       "      <td>...</td>\n",
       "      <td>...</td>\n",
       "      <td>...</td>\n",
       "      <td>...</td>\n",
       "      <td>...</td>\n",
       "      <td>...</td>\n",
       "      <td>...</td>\n",
       "      <td>...</td>\n",
       "      <td>...</td>\n",
       "    </tr>\n",
       "    <tr>\n",
       "      <th>209</th>\n",
       "      <td>210</td>\n",
       "      <td>1.51623</td>\n",
       "      <td>14.14</td>\n",
       "      <td>0.00</td>\n",
       "      <td>2.88</td>\n",
       "      <td>72.61</td>\n",
       "      <td>0.08</td>\n",
       "      <td>9.18</td>\n",
       "      <td>1.06</td>\n",
       "      <td>0.0</td>\n",
       "    </tr>\n",
       "    <tr>\n",
       "      <th>210</th>\n",
       "      <td>211</td>\n",
       "      <td>1.51685</td>\n",
       "      <td>14.92</td>\n",
       "      <td>0.00</td>\n",
       "      <td>1.99</td>\n",
       "      <td>73.06</td>\n",
       "      <td>0.00</td>\n",
       "      <td>8.40</td>\n",
       "      <td>1.59</td>\n",
       "      <td>0.0</td>\n",
       "    </tr>\n",
       "    <tr>\n",
       "      <th>211</th>\n",
       "      <td>212</td>\n",
       "      <td>1.52065</td>\n",
       "      <td>14.36</td>\n",
       "      <td>0.00</td>\n",
       "      <td>2.02</td>\n",
       "      <td>73.42</td>\n",
       "      <td>0.00</td>\n",
       "      <td>8.44</td>\n",
       "      <td>1.64</td>\n",
       "      <td>0.0</td>\n",
       "    </tr>\n",
       "    <tr>\n",
       "      <th>212</th>\n",
       "      <td>213</td>\n",
       "      <td>1.51651</td>\n",
       "      <td>14.38</td>\n",
       "      <td>0.00</td>\n",
       "      <td>1.94</td>\n",
       "      <td>73.61</td>\n",
       "      <td>0.00</td>\n",
       "      <td>8.48</td>\n",
       "      <td>1.57</td>\n",
       "      <td>0.0</td>\n",
       "    </tr>\n",
       "    <tr>\n",
       "      <th>213</th>\n",
       "      <td>214</td>\n",
       "      <td>1.51711</td>\n",
       "      <td>14.23</td>\n",
       "      <td>0.00</td>\n",
       "      <td>2.08</td>\n",
       "      <td>73.36</td>\n",
       "      <td>0.00</td>\n",
       "      <td>8.62</td>\n",
       "      <td>1.67</td>\n",
       "      <td>0.0</td>\n",
       "    </tr>\n",
       "  </tbody>\n",
       "</table>\n",
       "<p>214 rows × 10 columns</p>\n",
       "</div>"
      ],
      "text/plain": [
       "     Id_number  refractive_index  Sodium  Magnesium  Aluminum  Silicon  \\\n",
       "0            1           1.52101   13.64       4.49      1.10    71.78   \n",
       "1            2           1.51761   13.89       3.60      1.36    72.73   \n",
       "2            3           1.51618   13.53       3.55      1.54    72.99   \n",
       "3            4           1.51766   13.21       3.69      1.29    72.61   \n",
       "4            5           1.51742   13.27       3.62      1.24    73.08   \n",
       "..         ...               ...     ...        ...       ...      ...   \n",
       "209        210           1.51623   14.14       0.00      2.88    72.61   \n",
       "210        211           1.51685   14.92       0.00      1.99    73.06   \n",
       "211        212           1.52065   14.36       0.00      2.02    73.42   \n",
       "212        213           1.51651   14.38       0.00      1.94    73.61   \n",
       "213        214           1.51711   14.23       0.00      2.08    73.36   \n",
       "\n",
       "     Potassium  Calcium  Barium  Iron  \n",
       "0         0.06     8.75    0.00   0.0  \n",
       "1         0.48     7.83    0.00   0.0  \n",
       "2         0.39     7.78    0.00   0.0  \n",
       "3         0.57     8.22    0.00   0.0  \n",
       "4         0.55     8.07    0.00   0.0  \n",
       "..         ...      ...     ...   ...  \n",
       "209       0.08     9.18    1.06   0.0  \n",
       "210       0.00     8.40    1.59   0.0  \n",
       "211       0.00     8.44    1.64   0.0  \n",
       "212       0.00     8.48    1.57   0.0  \n",
       "213       0.00     8.62    1.67   0.0  \n",
       "\n",
       "[214 rows x 10 columns]"
      ]
     },
     "execution_count": 297,
     "metadata": {},
     "output_type": "execute_result"
    }
   ],
   "source": [
    "x=df.iloc[:,0:-1]\n",
    "x"
   ]
  },
  {
   "cell_type": "code",
   "execution_count": 298,
   "id": "80922e15",
   "metadata": {},
   "outputs": [
    {
     "data": {
      "text/plain": [
       "0      1\n",
       "1      1\n",
       "2      1\n",
       "3      1\n",
       "4      1\n",
       "      ..\n",
       "209    7\n",
       "210    7\n",
       "211    7\n",
       "212    7\n",
       "213    7\n",
       "Name: Type_glass, Length: 214, dtype: int64"
      ]
     },
     "execution_count": 298,
     "metadata": {},
     "output_type": "execute_result"
    }
   ],
   "source": [
    "y=df.iloc[:,-1]\n",
    "y"
   ]
  },
  {
   "cell_type": "markdown",
   "id": "aab5c501",
   "metadata": {},
   "source": [
    "# Visualization "
   ]
  },
  {
   "cell_type": "code",
   "execution_count": 299,
   "id": "17dd2776",
   "metadata": {},
   "outputs": [
    {
     "data": {
      "image/png": "[encoded data removed]",
      "text/plain": [
       "<Figure size 1000x1000 with 10 Axes>"
      ]
     },
     "metadata": {},
     "output_type": "display_data"
    }
   ],
   "source": [
    "plt.figure(figsize=(10,10),facecolor=\"blue\")\n",
    "plotnumber=1\n",
    "for i in x:\n",
    "    if plotnumber <=12:\n",
    "        ax=plt.subplot(3,4,plotnumber)\n",
    "        sns.distplot(x[i])\n",
    "        plt.xlabel(i)\n",
    "    plotnumber+=1\n",
    "plt.show()"
   ]
  },
  {
   "cell_type": "code",
   "execution_count": 300,
   "id": "e39b8bfe",
   "metadata": {},
   "outputs": [
    {
     "data": {
      "image/png": "[encoded data removed]",
      "text/plain": [
       "<Figure size 1000x1000 with 10 Axes>"
      ]
     },
     "metadata": {},
     "output_type": "display_data"
    }
   ],
   "source": [
    "plt.figure(figsize=(10,10),facecolor=\"blue\")\n",
    "plotnumber=1\n",
    "for i in x:\n",
    "    if plotnumber <=12:\n",
    "        ax=plt.subplot(3,4,plotnumber)\n",
    "        plt.boxplot(x[i])\n",
    "        plt.xlabel(i)\n",
    "    plotnumber+=1\n",
    "plt.show()"
   ]
  },
  {
   "cell_type": "code",
   "execution_count": 301,
   "id": "6aa21c9e",
   "metadata": {},
   "outputs": [],
   "source": [
    "# x=x.iloc[:,1:]\n",
    "# x"
   ]
  },
  {
   "cell_type": "markdown",
   "id": "7d822255",
   "metadata": {},
   "source": [
    "# Removing outliers with the use of Zscore"
   ]
  },
  {
   "cell_type": "code",
   "execution_count": 302,
   "id": "1db3fe9c",
   "metadata": {},
   "outputs": [
    {
     "data": {
      "text/plain": [
       "(194, 10)"
      ]
     },
     "execution_count": 302,
     "metadata": {},
     "output_type": "execute_result"
    }
   ],
   "source": [
    "# detecting outliers\n",
    "from scipy.stats import zscore\n",
    "z=np.abs(zscore(x))\n",
    "threshold=3\n",
    "x=z[(z<3).all(axis=1)]\n",
    "x.shape"
   ]
  },
  {
   "cell_type": "code",
   "execution_count": 303,
   "id": "b59dc85e",
   "metadata": {},
   "outputs": [
    {
     "name": "stdout",
     "output_type": "stream",
     "text": [
      "9.389671361502346\n"
     ]
    }
   ],
   "source": [
    "\n",
    "loss= (213-193)/213*100\n",
    "print(loss)"
   ]
  },
  {
   "cell_type": "markdown",
   "id": "410ec27e",
   "metadata": {},
   "source": [
    "Data lose is under 10 percent."
   ]
  },
  {
   "cell_type": "code",
   "execution_count": 304,
   "id": "3084eb88",
   "metadata": {},
   "outputs": [
    {
     "data": {
      "text/plain": [
       "(194,)"
      ]
     },
     "execution_count": 304,
     "metadata": {},
     "output_type": "execute_result"
    }
   ],
   "source": [
    "y=y[(z<3).all(axis=1)]\n",
    "y.shape"
   ]
  },
  {
   "cell_type": "markdown",
   "id": "5f527f4b",
   "metadata": {},
   "source": [
    "# checking skewness of data and Remove with Power Transform."
   ]
  },
  {
   "cell_type": "code",
   "execution_count": 305,
   "id": "1d3a8aa0",
   "metadata": {},
   "outputs": [
    {
     "data": {
      "text/plain": [
       "Id_number           0.045064\n",
       "refractive_index    1.731212\n",
       "Sodium              1.315848\n",
       "Magnesium           1.417559\n",
       "Aluminum            1.536299\n",
       "Silicon             1.476892\n",
       "Potassium           1.551080\n",
       "Calcium             2.088716\n",
       "Barium              3.740853\n",
       "Iron                2.285076\n",
       "dtype: float64"
      ]
     },
     "execution_count": 305,
     "metadata": {},
     "output_type": "execute_result"
    }
   ],
   "source": [
    "x.skew()"
   ]
  },
  {
   "cell_type": "code",
   "execution_count": 306,
   "id": "403d566f",
   "metadata": {},
   "outputs": [
    {
     "data": {
      "text/plain": [
       "array([[ 1.66490635,  0.85309907, -0.65177821, ..., -1.10288911,\n",
       "        -0.1533432 , -0.17696298],\n",
       "       [ 1.63609724, -0.70566931,  0.17228529, ...,  0.95124659,\n",
       "        -0.1533432 , -0.17696298],\n",
       "       [ 1.60722725,  0.57773682, -1.13991328, ...,  1.01178053,\n",
       "        -0.1533432 , -0.17696298],\n",
       "       ...,\n",
       "       [ 1.57829587,  0.07656624,  1.80330971, ..., -0.03180512,\n",
       "         2.54336548, -0.17696298],\n",
       "       [ 1.60722725,  0.64121514,  1.13233487, ..., -0.12944902,\n",
       "         2.54725391, -0.17696298],\n",
       "       [ 1.63609724,  0.34800204,  1.162862  , ..., -0.23240778,\n",
       "         2.54166088, -0.17696298]])"
      ]
     },
     "execution_count": 306,
     "metadata": {},
     "output_type": "execute_result"
    }
   ],
   "source": [
    "from sklearn.preprocessing import PowerTransformer\n",
    "transform = PowerTransformer(method=\"yeo-johnson\")\n",
    "skewed= transform.fit_transform(x)\n",
    "skewed"
   ]
  },
  {
   "cell_type": "code",
   "execution_count": 307,
   "id": "173a3539",
   "metadata": {},
   "outputs": [
    {
     "data": {
      "text/plain": [
       "Barium             -0.345349\n",
       "Iron               -0.225579\n",
       "Id_number          -0.070834\n",
       "Magnesium          -0.051332\n",
       "Silicon             0.041146\n",
       "Sodium              0.061344\n",
       "refractive_index    0.062092\n",
       "Calcium             0.064057\n",
       "Aluminum            0.158192\n",
       "Potassium           0.238964\n",
       "dtype: float64"
      ]
     },
     "execution_count": 307,
     "metadata": {},
     "output_type": "execute_result"
    }
   ],
   "source": [
    "pd.DataFrame(skewed,columns=x.columns).skew().sort_values(ascending=True)"
   ]
  },
  {
   "cell_type": "code",
   "execution_count": 308,
   "id": "342464c1",
   "metadata": {},
   "outputs": [
    {
     "data": {
      "text/plain": [
       "Barium             -0.345349\n",
       "Iron               -0.225579\n",
       "Id_number          -0.070834\n",
       "Magnesium          -0.051332\n",
       "Silicon             0.041146\n",
       "Sodium              0.061344\n",
       "refractive_index    0.062092\n",
       "Calcium             0.064057\n",
       "Aluminum            0.158192\n",
       "Potassium           0.238964\n",
       "dtype: float64"
      ]
     },
     "execution_count": 308,
     "metadata": {},
     "output_type": "execute_result"
    }
   ],
   "source": [
    "x=pd.DataFrame(skewed,columns=x.columns)\n",
    "x.skew().sort_values(ascending=True)"
   ]
  },
  {
   "cell_type": "markdown",
   "id": "3c8b10c9",
   "metadata": {},
   "source": [
    "All skewness is under control "
   ]
  },
  {
   "cell_type": "code",
   "execution_count": 309,
   "id": "3ad8b002",
   "metadata": {},
   "outputs": [
    {
     "data": {
      "text/html": [
       "<div>\n",
       "<style scoped>\n",
       "    .dataframe tbody tr th:only-of-type {\n",
       "        vertical-align: middle;\n",
       "    }\n",
       "\n",
       "    .dataframe tbody tr th {\n",
       "        vertical-align: top;\n",
       "    }\n",
       "\n",
       "    .dataframe thead th {\n",
       "        text-align: right;\n",
       "    }\n",
       "</style>\n",
       "<table border=\"1\" class=\"dataframe\">\n",
       "  <thead>\n",
       "    <tr style=\"text-align: right;\">\n",
       "      <th></th>\n",
       "      <th>Id_number</th>\n",
       "      <th>refractive_index</th>\n",
       "      <th>Sodium</th>\n",
       "      <th>Magnesium</th>\n",
       "      <th>Aluminum</th>\n",
       "      <th>Silicon</th>\n",
       "      <th>Potassium</th>\n",
       "      <th>Calcium</th>\n",
       "      <th>Barium</th>\n",
       "      <th>Iron</th>\n",
       "    </tr>\n",
       "  </thead>\n",
       "  <tbody>\n",
       "    <tr>\n",
       "      <th>0</th>\n",
       "      <td>1.664906</td>\n",
       "      <td>0.853099</td>\n",
       "      <td>-0.651778</td>\n",
       "      <td>1.158920</td>\n",
       "      <td>0.497260</td>\n",
       "      <td>1.207464</td>\n",
       "      <td>1.274288</td>\n",
       "      <td>-1.102889</td>\n",
       "      <td>-0.153343</td>\n",
       "      <td>-0.176963</td>\n",
       "    </tr>\n",
       "    <tr>\n",
       "      <th>1</th>\n",
       "      <td>1.636097</td>\n",
       "      <td>-0.705669</td>\n",
       "      <td>0.172285</td>\n",
       "      <td>-0.080785</td>\n",
       "      <td>-1.005112</td>\n",
       "      <td>-1.401669</td>\n",
       "      <td>-1.608267</td>\n",
       "      <td>0.951247</td>\n",
       "      <td>-0.153343</td>\n",
       "      <td>-0.176963</td>\n",
       "    </tr>\n",
       "    <tr>\n",
       "      <th>2</th>\n",
       "      <td>1.607227</td>\n",
       "      <td>0.577737</td>\n",
       "      <td>-1.139913</td>\n",
       "      <td>-0.181867</td>\n",
       "      <td>-0.915247</td>\n",
       "      <td>-0.170439</td>\n",
       "      <td>-0.487918</td>\n",
       "      <td>1.011781</td>\n",
       "      <td>-0.153343</td>\n",
       "      <td>-0.176963</td>\n",
       "    </tr>\n",
       "    <tr>\n",
       "      <th>3</th>\n",
       "      <td>1.578296</td>\n",
       "      <td>-0.768244</td>\n",
       "      <td>-0.793580</td>\n",
       "      <td>0.089797</td>\n",
       "      <td>-0.455641</td>\n",
       "      <td>-1.642224</td>\n",
       "      <td>-0.854476</td>\n",
       "      <td>0.351108</td>\n",
       "      <td>-0.153343</td>\n",
       "      <td>-0.176963</td>\n",
       "    </tr>\n",
       "    <tr>\n",
       "      <th>4</th>\n",
       "      <td>1.549303</td>\n",
       "      <td>-0.482186</td>\n",
       "      <td>-1.063956</td>\n",
       "      <td>-0.041655</td>\n",
       "      <td>-0.143456</td>\n",
       "      <td>0.140755</td>\n",
       "      <td>-1.099779</td>\n",
       "      <td>0.612817</td>\n",
       "      <td>-0.153343</td>\n",
       "      <td>-0.176963</td>\n",
       "    </tr>\n",
       "    <tr>\n",
       "      <th>...</th>\n",
       "      <td>...</td>\n",
       "      <td>...</td>\n",
       "      <td>...</td>\n",
       "      <td>...</td>\n",
       "      <td>...</td>\n",
       "      <td>...</td>\n",
       "      <td>...</td>\n",
       "      <td>...</td>\n",
       "      <td>...</td>\n",
       "      <td>...</td>\n",
       "    </tr>\n",
       "    <tr>\n",
       "      <th>189</th>\n",
       "      <td>1.520247</td>\n",
       "      <td>0.427939</td>\n",
       "      <td>1.147677</td>\n",
       "      <td>1.821688</td>\n",
       "      <td>1.916578</td>\n",
       "      <td>-0.758411</td>\n",
       "      <td>1.422228</td>\n",
       "      <td>-0.190368</td>\n",
       "      <td>1.587807</td>\n",
       "      <td>-0.176963</td>\n",
       "    </tr>\n",
       "    <tr>\n",
       "      <th>190</th>\n",
       "      <td>1.549303</td>\n",
       "      <td>0.544808</td>\n",
       "      <td>0.749362</td>\n",
       "      <td>1.821688</td>\n",
       "      <td>1.990604</td>\n",
       "      <td>-1.642224</td>\n",
       "      <td>1.218203</td>\n",
       "      <td>-1.040659</td>\n",
       "      <td>2.436377</td>\n",
       "      <td>-0.176963</td>\n",
       "    </tr>\n",
       "    <tr>\n",
       "      <th>191</th>\n",
       "      <td>1.578296</td>\n",
       "      <td>0.076566</td>\n",
       "      <td>1.803310</td>\n",
       "      <td>1.821688</td>\n",
       "      <td>1.063376</td>\n",
       "      <td>0.075358</td>\n",
       "      <td>1.422228</td>\n",
       "      <td>-0.031805</td>\n",
       "      <td>2.543365</td>\n",
       "      <td>-0.176963</td>\n",
       "    </tr>\n",
       "    <tr>\n",
       "      <th>192</th>\n",
       "      <td>1.607227</td>\n",
       "      <td>0.641215</td>\n",
       "      <td>1.132335</td>\n",
       "      <td>1.821688</td>\n",
       "      <td>1.126426</td>\n",
       "      <td>1.011485</td>\n",
       "      <td>1.422228</td>\n",
       "      <td>-0.129449</td>\n",
       "      <td>2.547254</td>\n",
       "      <td>-0.176963</td>\n",
       "    </tr>\n",
       "    <tr>\n",
       "      <th>193</th>\n",
       "      <td>1.636097</td>\n",
       "      <td>0.348002</td>\n",
       "      <td>1.162862</td>\n",
       "      <td>1.821688</td>\n",
       "      <td>0.947857</td>\n",
       "      <td>1.359894</td>\n",
       "      <td>1.422228</td>\n",
       "      <td>-0.232408</td>\n",
       "      <td>2.541661</td>\n",
       "      <td>-0.176963</td>\n",
       "    </tr>\n",
       "  </tbody>\n",
       "</table>\n",
       "<p>194 rows × 10 columns</p>\n",
       "</div>"
      ],
      "text/plain": [
       "     Id_number  refractive_index    Sodium  Magnesium  Aluminum   Silicon  \\\n",
       "0     1.664906          0.853099 -0.651778   1.158920  0.497260  1.207464   \n",
       "1     1.636097         -0.705669  0.172285  -0.080785 -1.005112 -1.401669   \n",
       "2     1.607227          0.577737 -1.139913  -0.181867 -0.915247 -0.170439   \n",
       "3     1.578296         -0.768244 -0.793580   0.089797 -0.455641 -1.642224   \n",
       "4     1.549303         -0.482186 -1.063956  -0.041655 -0.143456  0.140755   \n",
       "..         ...               ...       ...        ...       ...       ...   \n",
       "189   1.520247          0.427939  1.147677   1.821688  1.916578 -0.758411   \n",
       "190   1.549303          0.544808  0.749362   1.821688  1.990604 -1.642224   \n",
       "191   1.578296          0.076566  1.803310   1.821688  1.063376  0.075358   \n",
       "192   1.607227          0.641215  1.132335   1.821688  1.126426  1.011485   \n",
       "193   1.636097          0.348002  1.162862   1.821688  0.947857  1.359894   \n",
       "\n",
       "     Potassium   Calcium    Barium      Iron  \n",
       "0     1.274288 -1.102889 -0.153343 -0.176963  \n",
       "1    -1.608267  0.951247 -0.153343 -0.176963  \n",
       "2    -0.487918  1.011781 -0.153343 -0.176963  \n",
       "3    -0.854476  0.351108 -0.153343 -0.176963  \n",
       "4    -1.099779  0.612817 -0.153343 -0.176963  \n",
       "..         ...       ...       ...       ...  \n",
       "189   1.422228 -0.190368  1.587807 -0.176963  \n",
       "190   1.218203 -1.040659  2.436377 -0.176963  \n",
       "191   1.422228 -0.031805  2.543365 -0.176963  \n",
       "192   1.422228 -0.129449  2.547254 -0.176963  \n",
       "193   1.422228 -0.232408  2.541661 -0.176963  \n",
       "\n",
       "[194 rows x 10 columns]"
      ]
     },
     "execution_count": 309,
     "metadata": {},
     "output_type": "execute_result"
    }
   ],
   "source": [
    "x"
   ]
  },
  {
   "cell_type": "code",
   "execution_count": 310,
   "id": "b2771b2f",
   "metadata": {},
   "outputs": [
    {
     "data": {
      "text/plain": [
       "Id_number          -0.070834\n",
       "refractive_index    0.062092\n",
       "Sodium              0.061344\n",
       "Magnesium          -0.051332\n",
       "Aluminum            0.158192\n",
       "Silicon             0.041146\n",
       "Potassium           0.238964\n",
       "Calcium             0.064057\n",
       "Barium             -0.345349\n",
       "Iron               -0.225579\n",
       "dtype: float64"
      ]
     },
     "execution_count": 310,
     "metadata": {},
     "output_type": "execute_result"
    }
   ],
   "source": [
    "sk=x.copy()\n",
    "sk.skew()"
   ]
  },
  {
   "cell_type": "code",
   "execution_count": 311,
   "id": "14e99418",
   "metadata": {},
   "outputs": [
    {
     "data": {
      "text/html": [
       "<div>\n",
       "<style scoped>\n",
       "    .dataframe tbody tr th:only-of-type {\n",
       "        vertical-align: middle;\n",
       "    }\n",
       "\n",
       "    .dataframe tbody tr th {\n",
       "        vertical-align: top;\n",
       "    }\n",
       "\n",
       "    .dataframe thead th {\n",
       "        text-align: right;\n",
       "    }\n",
       "</style>\n",
       "<table border=\"1\" class=\"dataframe\">\n",
       "  <thead>\n",
       "    <tr style=\"text-align: right;\">\n",
       "      <th></th>\n",
       "      <th>Id_number</th>\n",
       "      <th>refractive_index</th>\n",
       "      <th>Sodium</th>\n",
       "      <th>Magnesium</th>\n",
       "      <th>Aluminum</th>\n",
       "      <th>Silicon</th>\n",
       "      <th>Potassium</th>\n",
       "      <th>Calcium</th>\n",
       "      <th>Barium</th>\n",
       "      <th>Iron</th>\n",
       "    </tr>\n",
       "  </thead>\n",
       "  <tbody>\n",
       "    <tr>\n",
       "      <th>0</th>\n",
       "      <td>1.664906</td>\n",
       "      <td>0.853099</td>\n",
       "      <td>0.651778</td>\n",
       "      <td>1.158920</td>\n",
       "      <td>0.497260</td>\n",
       "      <td>1.207464</td>\n",
       "      <td>1.274288</td>\n",
       "      <td>1.102889</td>\n",
       "      <td>0.153343</td>\n",
       "      <td>0.176963</td>\n",
       "    </tr>\n",
       "    <tr>\n",
       "      <th>1</th>\n",
       "      <td>1.636097</td>\n",
       "      <td>0.705669</td>\n",
       "      <td>0.172285</td>\n",
       "      <td>0.080785</td>\n",
       "      <td>1.005112</td>\n",
       "      <td>1.401669</td>\n",
       "      <td>1.608267</td>\n",
       "      <td>0.951247</td>\n",
       "      <td>0.153343</td>\n",
       "      <td>0.176963</td>\n",
       "    </tr>\n",
       "    <tr>\n",
       "      <th>2</th>\n",
       "      <td>1.607227</td>\n",
       "      <td>0.577737</td>\n",
       "      <td>1.139913</td>\n",
       "      <td>0.181867</td>\n",
       "      <td>0.915247</td>\n",
       "      <td>0.170439</td>\n",
       "      <td>0.487918</td>\n",
       "      <td>1.011781</td>\n",
       "      <td>0.153343</td>\n",
       "      <td>0.176963</td>\n",
       "    </tr>\n",
       "    <tr>\n",
       "      <th>3</th>\n",
       "      <td>1.578296</td>\n",
       "      <td>0.768244</td>\n",
       "      <td>0.793580</td>\n",
       "      <td>0.089797</td>\n",
       "      <td>0.455641</td>\n",
       "      <td>1.642224</td>\n",
       "      <td>0.854476</td>\n",
       "      <td>0.351108</td>\n",
       "      <td>0.153343</td>\n",
       "      <td>0.176963</td>\n",
       "    </tr>\n",
       "    <tr>\n",
       "      <th>4</th>\n",
       "      <td>1.549303</td>\n",
       "      <td>0.482186</td>\n",
       "      <td>1.063956</td>\n",
       "      <td>0.041655</td>\n",
       "      <td>0.143456</td>\n",
       "      <td>0.140755</td>\n",
       "      <td>1.099779</td>\n",
       "      <td>0.612817</td>\n",
       "      <td>0.153343</td>\n",
       "      <td>0.176963</td>\n",
       "    </tr>\n",
       "    <tr>\n",
       "      <th>...</th>\n",
       "      <td>...</td>\n",
       "      <td>...</td>\n",
       "      <td>...</td>\n",
       "      <td>...</td>\n",
       "      <td>...</td>\n",
       "      <td>...</td>\n",
       "      <td>...</td>\n",
       "      <td>...</td>\n",
       "      <td>...</td>\n",
       "      <td>...</td>\n",
       "    </tr>\n",
       "    <tr>\n",
       "      <th>189</th>\n",
       "      <td>1.520247</td>\n",
       "      <td>0.427939</td>\n",
       "      <td>1.147677</td>\n",
       "      <td>1.821688</td>\n",
       "      <td>1.916578</td>\n",
       "      <td>0.758411</td>\n",
       "      <td>1.422228</td>\n",
       "      <td>0.190368</td>\n",
       "      <td>1.587807</td>\n",
       "      <td>0.176963</td>\n",
       "    </tr>\n",
       "    <tr>\n",
       "      <th>190</th>\n",
       "      <td>1.549303</td>\n",
       "      <td>0.544808</td>\n",
       "      <td>0.749362</td>\n",
       "      <td>1.821688</td>\n",
       "      <td>1.990604</td>\n",
       "      <td>1.642224</td>\n",
       "      <td>1.218203</td>\n",
       "      <td>1.040659</td>\n",
       "      <td>2.436377</td>\n",
       "      <td>0.176963</td>\n",
       "    </tr>\n",
       "    <tr>\n",
       "      <th>191</th>\n",
       "      <td>1.578296</td>\n",
       "      <td>0.076566</td>\n",
       "      <td>1.803310</td>\n",
       "      <td>1.821688</td>\n",
       "      <td>1.063376</td>\n",
       "      <td>0.075358</td>\n",
       "      <td>1.422228</td>\n",
       "      <td>0.031805</td>\n",
       "      <td>2.543365</td>\n",
       "      <td>0.176963</td>\n",
       "    </tr>\n",
       "    <tr>\n",
       "      <th>192</th>\n",
       "      <td>1.607227</td>\n",
       "      <td>0.641215</td>\n",
       "      <td>1.132335</td>\n",
       "      <td>1.821688</td>\n",
       "      <td>1.126426</td>\n",
       "      <td>1.011485</td>\n",
       "      <td>1.422228</td>\n",
       "      <td>0.129449</td>\n",
       "      <td>2.547254</td>\n",
       "      <td>0.176963</td>\n",
       "    </tr>\n",
       "    <tr>\n",
       "      <th>193</th>\n",
       "      <td>1.636097</td>\n",
       "      <td>0.348002</td>\n",
       "      <td>1.162862</td>\n",
       "      <td>1.821688</td>\n",
       "      <td>0.947857</td>\n",
       "      <td>1.359894</td>\n",
       "      <td>1.422228</td>\n",
       "      <td>0.232408</td>\n",
       "      <td>2.541661</td>\n",
       "      <td>0.176963</td>\n",
       "    </tr>\n",
       "  </tbody>\n",
       "</table>\n",
       "<p>194 rows × 10 columns</p>\n",
       "</div>"
      ],
      "text/plain": [
       "     Id_number  refractive_index    Sodium  Magnesium  Aluminum   Silicon  \\\n",
       "0     1.664906          0.853099  0.651778   1.158920  0.497260  1.207464   \n",
       "1     1.636097          0.705669  0.172285   0.080785  1.005112  1.401669   \n",
       "2     1.607227          0.577737  1.139913   0.181867  0.915247  0.170439   \n",
       "3     1.578296          0.768244  0.793580   0.089797  0.455641  1.642224   \n",
       "4     1.549303          0.482186  1.063956   0.041655  0.143456  0.140755   \n",
       "..         ...               ...       ...        ...       ...       ...   \n",
       "189   1.520247          0.427939  1.147677   1.821688  1.916578  0.758411   \n",
       "190   1.549303          0.544808  0.749362   1.821688  1.990604  1.642224   \n",
       "191   1.578296          0.076566  1.803310   1.821688  1.063376  0.075358   \n",
       "192   1.607227          0.641215  1.132335   1.821688  1.126426  1.011485   \n",
       "193   1.636097          0.348002  1.162862   1.821688  0.947857  1.359894   \n",
       "\n",
       "     Potassium   Calcium    Barium      Iron  \n",
       "0     1.274288  1.102889  0.153343  0.176963  \n",
       "1     1.608267  0.951247  0.153343  0.176963  \n",
       "2     0.487918  1.011781  0.153343  0.176963  \n",
       "3     0.854476  0.351108  0.153343  0.176963  \n",
       "4     1.099779  0.612817  0.153343  0.176963  \n",
       "..         ...       ...       ...       ...  \n",
       "189   1.422228  0.190368  1.587807  0.176963  \n",
       "190   1.218203  1.040659  2.436377  0.176963  \n",
       "191   1.422228  0.031805  2.543365  0.176963  \n",
       "192   1.422228  0.129449  2.547254  0.176963  \n",
       "193   1.422228  0.232408  2.541661  0.176963  \n",
       "\n",
       "[194 rows x 10 columns]"
      ]
     },
     "execution_count": 311,
     "metadata": {},
     "output_type": "execute_result"
    }
   ],
   "source": [
    "np.abs(sk)"
   ]
  },
  {
   "cell_type": "code",
   "execution_count": 312,
   "id": "ac0e78cc",
   "metadata": {},
   "outputs": [
    {
     "data": {
      "text/plain": [
       "Id_number           True\n",
       "refractive_index    True\n",
       "Sodium              True\n",
       "Magnesium           True\n",
       "Aluminum            True\n",
       "Silicon             True\n",
       "Potassium           True\n",
       "Calcium             True\n",
       "Barium              True\n",
       "Iron                True\n",
       "dtype: bool"
      ]
     },
     "execution_count": 312,
     "metadata": {},
     "output_type": "execute_result"
    }
   ],
   "source": [
    "sk[np.abs(sk)<.23].all()"
   ]
  },
  {
   "cell_type": "markdown",
   "id": "daa812f2",
   "metadata": {},
   "source": [
    "# using VIF for checking multicullinearity"
   ]
  },
  {
   "cell_type": "code",
   "execution_count": 313,
   "id": "efa98ee1",
   "metadata": {},
   "outputs": [
    {
     "data": {
      "text/html": [
       "<div>\n",
       "<style scoped>\n",
       "    .dataframe tbody tr th:only-of-type {\n",
       "        vertical-align: middle;\n",
       "    }\n",
       "\n",
       "    .dataframe tbody tr th {\n",
       "        vertical-align: top;\n",
       "    }\n",
       "\n",
       "    .dataframe thead th {\n",
       "        text-align: right;\n",
       "    }\n",
       "</style>\n",
       "<table border=\"1\" class=\"dataframe\">\n",
       "  <thead>\n",
       "    <tr style=\"text-align: right;\">\n",
       "      <th></th>\n",
       "      <th>Vif</th>\n",
       "      <th>features</th>\n",
       "    </tr>\n",
       "  </thead>\n",
       "  <tbody>\n",
       "    <tr>\n",
       "      <th>0</th>\n",
       "      <td>1.425572</td>\n",
       "      <td>Id_number</td>\n",
       "    </tr>\n",
       "    <tr>\n",
       "      <th>1</th>\n",
       "      <td>1.463448</td>\n",
       "      <td>refractive_index</td>\n",
       "    </tr>\n",
       "    <tr>\n",
       "      <th>2</th>\n",
       "      <td>1.486700</td>\n",
       "      <td>Sodium</td>\n",
       "    </tr>\n",
       "    <tr>\n",
       "      <th>3</th>\n",
       "      <td>1.581067</td>\n",
       "      <td>Magnesium</td>\n",
       "    </tr>\n",
       "    <tr>\n",
       "      <th>4</th>\n",
       "      <td>1.891393</td>\n",
       "      <td>Aluminum</td>\n",
       "    </tr>\n",
       "    <tr>\n",
       "      <th>5</th>\n",
       "      <td>1.237257</td>\n",
       "      <td>Silicon</td>\n",
       "    </tr>\n",
       "    <tr>\n",
       "      <th>6</th>\n",
       "      <td>2.264788</td>\n",
       "      <td>Potassium</td>\n",
       "    </tr>\n",
       "    <tr>\n",
       "      <th>7</th>\n",
       "      <td>1.411515</td>\n",
       "      <td>Calcium</td>\n",
       "    </tr>\n",
       "    <tr>\n",
       "      <th>8</th>\n",
       "      <td>1.610534</td>\n",
       "      <td>Barium</td>\n",
       "    </tr>\n",
       "    <tr>\n",
       "      <th>9</th>\n",
       "      <td>1.127512</td>\n",
       "      <td>Iron</td>\n",
       "    </tr>\n",
       "  </tbody>\n",
       "</table>\n",
       "</div>"
      ],
      "text/plain": [
       "        Vif          features\n",
       "0  1.425572         Id_number\n",
       "1  1.463448  refractive_index\n",
       "2  1.486700            Sodium\n",
       "3  1.581067         Magnesium\n",
       "4  1.891393          Aluminum\n",
       "5  1.237257           Silicon\n",
       "6  2.264788         Potassium\n",
       "7  1.411515           Calcium\n",
       "8  1.610534            Barium\n",
       "9  1.127512              Iron"
      ]
     },
     "execution_count": 313,
     "metadata": {},
     "output_type": "execute_result"
    }
   ],
   "source": [
    "Vif=pd.DataFrame()\n",
    "Vif['Vif']=[variance_inflation_factor(x,i) for i in range(x.shape[1])]\n",
    "Vif['features']=x.columns\n",
    "Vif"
   ]
  },
  {
   "cell_type": "code",
   "execution_count": null,
   "id": "998b61fc",
   "metadata": {},
   "outputs": [],
   "source": []
  },
  {
   "cell_type": "code",
   "execution_count": 314,
   "id": "b7dbf853",
   "metadata": {},
   "outputs": [],
   "source": [
    "# threshold_high=1.5*iqr+q3\n",
    "# threshold_low=q1-1.5*iqr"
   ]
  },
  {
   "cell_type": "code",
   "execution_count": 315,
   "id": "c486ca50",
   "metadata": {},
   "outputs": [],
   "source": [
    "# outliers = [x for x in x if x > (q1 - threshold_low) or x < (q3 + threshold_high)]\n",
    "#outliers = [x for x in x if x < (q1 - threshold_high) or x > (q3 + threshold_low)]"
   ]
  },
  {
   "cell_type": "code",
   "execution_count": 316,
   "id": "3c2986a0",
   "metadata": {},
   "outputs": [],
   "source": [
    "# filtered_data = [x for x in data if x >= (q1 - threshold) and x <= (q3 + threshold)]"
   ]
  },
  {
   "cell_type": "code",
   "execution_count": 317,
   "id": "2c87479b",
   "metadata": {},
   "outputs": [],
   "source": [
    "# print(\"Outliers: \", outliers)\n",
    "# print(\"Filtered data: \", filtered_data)"
   ]
  },
  {
   "cell_type": "markdown",
   "id": "24a89c10",
   "metadata": {},
   "source": [
    "# Data Scaling"
   ]
  },
  {
   "cell_type": "code",
   "execution_count": 318,
   "id": "e52e8008",
   "metadata": {},
   "outputs": [
    {
     "data": {
      "text/plain": [
       "array([[1.        , 0.62295218, 0.27423405, ..., 0.22035103, 0.64496318,\n",
       "        0.6061527 ],\n",
       "       [0.99179246, 0.26522417, 0.46973123, ..., 0.69660892, 0.64496318,\n",
       "        0.6061527 ],\n",
       "       [0.98356757, 0.55975819, 0.15843104, ..., 0.71064391, 0.64496318,\n",
       "        0.6061527 ],\n",
       "       ...,\n",
       "       [0.97532519, 0.44474254, 0.85666826, ..., 0.46868526, 0.9994888 ,\n",
       "        0.6061527 ],\n",
       "       [0.98356757, 0.57432608, 0.69748915, ..., 0.44604621, 1.        ,\n",
       "        0.6061527 ],\n",
       "       [0.99179246, 0.50703543, 0.70473128, ..., 0.42217489, 0.99926471,\n",
       "        0.6061527 ]])"
      ]
     },
     "execution_count": 318,
     "metadata": {},
     "output_type": "execute_result"
    }
   ],
   "source": [
    "scaler=MinMaxScaler()\n",
    "x_scaled = scaler.fit_transform(skewed)\n",
    "x_scaled"
   ]
  },
  {
   "cell_type": "code",
   "execution_count": 319,
   "id": "45c0b197",
   "metadata": {},
   "outputs": [
    {
     "data": {
      "text/plain": [
       "2    76\n",
       "1    70\n",
       "7    29\n",
       "3    17\n",
       "5    13\n",
       "6     9\n",
       "Name: Type_glass, dtype: int64"
      ]
     },
     "execution_count": 319,
     "metadata": {},
     "output_type": "execute_result"
    }
   ],
   "source": [
    "df[\"Type_glass\"].value_counts()"
   ]
  },
  {
   "cell_type": "markdown",
   "id": "aae751ec",
   "metadata": {},
   "source": [
    "## Using Smote for balancing Target "
   ]
  },
  {
   "cell_type": "code",
   "execution_count": 320,
   "id": "3cc3a1f4",
   "metadata": {},
   "outputs": [
    {
     "name": "stdout",
     "output_type": "stream",
     "text": [
      "1.0.2\n"
     ]
    }
   ],
   "source": [
    "import sklearn\n",
    "print(sklearn.__version__)"
   ]
  },
  {
   "cell_type": "code",
   "execution_count": 321,
   "id": "0b7b1363",
   "metadata": {},
   "outputs": [
    {
     "name": "stdout",
     "output_type": "stream",
     "text": [
      "1.21.5\n"
     ]
    }
   ],
   "source": [
    "import numpy as np\n",
    "print(np.__version__)"
   ]
  },
  {
   "cell_type": "code",
   "execution_count": 322,
   "id": "cd2f753b",
   "metadata": {},
   "outputs": [
    {
     "name": "stdout",
     "output_type": "stream",
     "text": [
      "Requirement already satisfied: imblearn in d:\\anaconda\\lib\\site-packages (0.0)\n",
      "Requirement already satisfied: imbalanced-learn in d:\\anaconda\\lib\\site-packages (from imblearn) (0.10.1)\n",
      "Requirement already satisfied: joblib>=1.1.1 in d:\\anaconda\\lib\\site-packages (from imbalanced-learn->imblearn) (1.2.0)\n",
      "Requirement already satisfied: scikit-learn>=1.0.2 in d:\\anaconda\\lib\\site-packages (from imbalanced-learn->imblearn) (1.2.0)\n",
      "Requirement already satisfied: threadpoolctl>=2.0.0 in d:\\anaconda\\lib\\site-packages (from imbalanced-learn->imblearn) (2.2.0)\n",
      "Requirement already satisfied: scipy>=1.3.2 in d:\\anaconda\\lib\\site-packages (from imbalanced-learn->imblearn) (1.9.3)\n",
      "Requirement already satisfied: numpy>=1.17.3 in d:\\anaconda\\lib\\site-packages (from imbalanced-learn->imblearn) (1.21.5)\n"
     ]
    }
   ],
   "source": [
    "# pip install imbalenced_learn\n",
    "!pip install imblearn"
   ]
  },
  {
   "cell_type": "code",
   "execution_count": 323,
   "id": "58f8fa66",
   "metadata": {},
   "outputs": [],
   "source": [
    "\n",
    "from imblearn.over_sampling import SMOTE\n",
    "smt=SMOTE()"
   ]
  },
  {
   "cell_type": "code",
   "execution_count": 324,
   "id": "beaee0e7",
   "metadata": {},
   "outputs": [],
   "source": [
    "trainx,trainy =smt.fit_resample(x_scaled,y)"
   ]
  },
  {
   "cell_type": "code",
   "execution_count": 331,
   "id": "449f2fcd",
   "metadata": {},
   "outputs": [
    {
     "data": {
      "text/plain": [
       "Type_glass\n",
       "1             70\n",
       "2             70\n",
       "3             70\n",
       "5             70\n",
       "6             70\n",
       "7             70\n",
       "dtype: int64"
      ]
     },
     "execution_count": 331,
     "metadata": {},
     "output_type": "execute_result"
    }
   ],
   "source": [
    "resamp=pd.DataFrame(trainy)\n",
    "resamp.value_counts()"
   ]
  },
  {
   "cell_type": "code",
   "execution_count": 327,
   "id": "7647f6c7",
   "metadata": {},
   "outputs": [
    {
     "data": {
      "text/plain": [
       "<AxesSubplot: xlabel='Type_glass', ylabel='count'>"
      ]
     },
     "execution_count": 327,
     "metadata": {},
     "output_type": "execute_result"
    },
    {
     "data": {
      "image/png": "[encoded data removed]",
      "text/plain": [
       "<Figure size 640x480 with 1 Axes>"
      ]
     },
     "metadata": {},
     "output_type": "display_data"
    }
   ],
   "source": [
    "sns.countplot(x='Type_glass', data=resamp)"
   ]
  },
  {
   "cell_type": "code",
   "execution_count": 328,
   "id": "4e32297a",
   "metadata": {},
   "outputs": [],
   "source": [
    "# # Array of random_state values from -100 to 100\n",
    "# random_states = np.arange(start=0, stop=100)\n",
    "\n",
    "# # Initialize a list where we'll store the score of each random_state\n",
    "# scores = []\n",
    "\n",
    "# # Initialize search\n",
    "# while i in random_states:\n",
    "#     xtrain, ytrain, xtest, ytest = train_test_split(trainx,trainy,test_size=.20, random_state=i)\n",
    "#     knn=KNeighborsClassifier()\n",
    "#     knn.fit(x_train,y_train)\n",
    "#     knn.predict(x_test)\n",
    "#     sc=knn.score(x_test,y_test)\n",
    "# scores.append(sc)\n",
    "   "
   ]
  },
  {
   "cell_type": "code",
   "execution_count": 329,
   "id": "9306cd2a",
   "metadata": {},
   "outputs": [],
   "source": [
    "    #scores.append(knn.score(xtest, ytest))\n",
    "#     svc = svm.SVC(C=30, gamma='auto')\n",
    "#     svc.fit(xtrain, ytrain)\n",
    "#     scores.append(svc.score(xtest, ytest))\n",
    "# And now put the two arrays in a pandas data frame.\n",
    "#results = pd.DataFrame({'random_state':random_states,'score':scores})\n",
    "#results[results['score'] == results['score'].max()]"
   ]
  },
  {
   "cell_type": "markdown",
   "id": "bc48ee12",
   "metadata": {},
   "source": [
    "## Train testing & Prediction "
   ]
  },
  {
   "cell_type": "code",
   "execution_count": 332,
   "id": "86758cd6",
   "metadata": {},
   "outputs": [],
   "source": [
    "x_train,x_test,y_train,y_test=train_test_split(trainx,trainy,test_size=.20,random_state=15)"
   ]
  },
  {
   "cell_type": "code",
   "execution_count": 333,
   "id": "7ce312f3",
   "metadata": {},
   "outputs": [
    {
     "data": {
      "text/plain": [
       "(336, 10)"
      ]
     },
     "execution_count": 333,
     "metadata": {},
     "output_type": "execute_result"
    }
   ],
   "source": [
    "x_train.shape"
   ]
  },
  {
   "cell_type": "code",
   "execution_count": 334,
   "id": "2dc3909b",
   "metadata": {},
   "outputs": [
    {
     "data": {
      "text/plain": [
       "(336,)"
      ]
     },
     "execution_count": 334,
     "metadata": {},
     "output_type": "execute_result"
    }
   ],
   "source": [
    "y_train.shape"
   ]
  },
  {
   "cell_type": "code",
   "execution_count": 335,
   "id": "522c2e84",
   "metadata": {},
   "outputs": [
    {
     "name": "stdout",
     "output_type": "stream",
     "text": [
      "              precision    recall  f1-score   support\n",
      "\n",
      "           1       1.00      0.65      0.79        17\n",
      "           2       1.00      1.00      1.00        10\n",
      "           3       0.74      1.00      0.85        14\n",
      "           5       1.00      1.00      1.00        14\n",
      "           6       1.00      1.00      1.00        13\n",
      "           7       0.94      1.00      0.97        16\n",
      "\n",
      "    accuracy                           0.93        84\n",
      "   macro avg       0.95      0.94      0.93        84\n",
      "weighted avg       0.94      0.93      0.93        84\n",
      "\n"
     ]
    }
   ],
   "source": [
    "print(classification_report(y_test,pred))"
   ]
  },
  {
   "cell_type": "code",
   "execution_count": 336,
   "id": "2b96bcce",
   "metadata": {},
   "outputs": [
    {
     "data": {
      "text/plain": [
       "MultinomialNB()"
      ]
     },
     "execution_count": 336,
     "metadata": {},
     "output_type": "execute_result"
    }
   ],
   "source": [
    "mnb=MultinomialNB()\n",
    "mnb.fit(x_train,y_train)"
   ]
  },
  {
   "cell_type": "code",
   "execution_count": 337,
   "id": "a30a1f2f",
   "metadata": {},
   "outputs": [
    {
     "data": {
      "text/plain": [
       "array([7, 2, 2, 5, 7, 3, 2, 6, 7, 7, 3, 5, 7, 5, 1, 7, 7, 6, 3, 3, 1, 6,\n",
       "       5, 7, 5, 2, 2, 7, 1, 2, 1, 5, 6, 5, 7, 5, 7, 3, 6, 2, 3, 7, 5, 6,\n",
       "       3, 7, 7, 6, 3, 5, 5, 3, 2, 3, 6, 6, 3, 7, 6, 6, 3, 6, 1, 5, 7, 2,\n",
       "       7, 7, 7, 2, 7, 6, 1, 6, 3, 7, 3, 3, 2, 5, 7, 5, 5, 2], dtype=int64)"
      ]
     },
     "execution_count": 337,
     "metadata": {},
     "output_type": "execute_result"
    }
   ],
   "source": [
    "pred=mnb.predict(x_test)\n",
    "pred"
   ]
  },
  {
   "cell_type": "code",
   "execution_count": 338,
   "id": "08b5817d",
   "metadata": {},
   "outputs": [
    {
     "data": {
      "text/plain": [
       "0.8035714285714286"
      ]
     },
     "execution_count": 338,
     "metadata": {},
     "output_type": "execute_result"
    }
   ],
   "source": [
    "mnb.score(x_train,y_train)"
   ]
  },
  {
   "cell_type": "code",
   "execution_count": 339,
   "id": "76f9a7a4",
   "metadata": {},
   "outputs": [
    {
     "name": "stdout",
     "output_type": "stream",
     "text": [
      "[[ 5  2  4  1  0  5]\n",
      " [ 0 10  0  0  0  0]\n",
      " [ 1  0 11  0  1  1]\n",
      " [ 0  0  0 14  0  0]\n",
      " [ 0  0  0  0 13  0]\n",
      " [ 0  0  0  0  0 16]]\n"
     ]
    }
   ],
   "source": [
    "print(confusion_matrix(y_test,pred))"
   ]
  },
  {
   "cell_type": "code",
   "execution_count": 340,
   "id": "3b7d4aea",
   "metadata": {
    "scrolled": true
   },
   "outputs": [
    {
     "name": "stdout",
     "output_type": "stream",
     "text": [
      "              precision    recall  f1-score   support\n",
      "\n",
      "           1       0.83      0.29      0.43        17\n",
      "           2       0.83      1.00      0.91        10\n",
      "           3       0.73      0.79      0.76        14\n",
      "           5       0.93      1.00      0.97        14\n",
      "           6       0.93      1.00      0.96        13\n",
      "           7       0.73      1.00      0.84        16\n",
      "\n",
      "    accuracy                           0.82        84\n",
      "   macro avg       0.83      0.85      0.81        84\n",
      "weighted avg       0.83      0.82      0.79        84\n",
      "\n"
     ]
    }
   ],
   "source": [
    "print(classification_report(y_test,pred))"
   ]
  },
  {
   "cell_type": "code",
   "execution_count": 341,
   "id": "d4a920c3",
   "metadata": {},
   "outputs": [
    {
     "data": {
      "text/plain": [
       "DecisionTreeClassifier(random_state=15)"
      ]
     },
     "execution_count": 341,
     "metadata": {},
     "output_type": "execute_result"
    }
   ],
   "source": [
    "dtc = DecisionTreeClassifier(random_state=15)\n",
    "dtc.fit(x_train,y_train)"
   ]
  },
  {
   "cell_type": "code",
   "execution_count": 342,
   "id": "773a11fd",
   "metadata": {},
   "outputs": [
    {
     "data": {
      "text/plain": [
       "array([7, 2, 2, 5, 1, 3, 2, 6, 7, 1, 3, 5, 3, 5, 1, 1, 7, 6, 3, 3, 1, 6,\n",
       "       5, 7, 5, 1, 2, 7, 1, 2, 1, 5, 6, 5, 1, 5, 7, 1, 6, 1, 3, 7, 5, 6,\n",
       "       3, 7, 7, 6, 3, 5, 5, 3, 2, 7, 6, 6, 3, 7, 6, 6, 3, 3, 3, 5, 7, 3,\n",
       "       7, 1, 7, 2, 7, 6, 1, 6, 3, 7, 1, 1, 2, 5, 7, 5, 5, 2], dtype=int64)"
      ]
     },
     "execution_count": 342,
     "metadata": {},
     "output_type": "execute_result"
    }
   ],
   "source": [
    "pred=dtc.predict(x_test)\n",
    "pred"
   ]
  },
  {
   "cell_type": "code",
   "execution_count": 343,
   "id": "1e2e54ea",
   "metadata": {},
   "outputs": [
    {
     "data": {
      "text/plain": [
       "1.0"
      ]
     },
     "execution_count": 343,
     "metadata": {},
     "output_type": "execute_result"
    }
   ],
   "source": [
    "dtc.score(x_train,y_train)"
   ]
  },
  {
   "cell_type": "code",
   "execution_count": 344,
   "id": "9aad62d9",
   "metadata": {},
   "outputs": [
    {
     "name": "stdout",
     "output_type": "stream",
     "text": [
      "[[14  0  1  1  0  1]\n",
      " [ 1  9  0  0  0  0]\n",
      " [ 0  0 14  0  0  0]\n",
      " [ 0  0  0 14  0  0]\n",
      " [ 0  0  0  0 13  0]\n",
      " [ 0  0  0  0  0 16]]\n"
     ]
    }
   ],
   "source": [
    "print(confusion_matrix(y_test,pred))"
   ]
  },
  {
   "cell_type": "code",
   "execution_count": 345,
   "id": "e0413e4d",
   "metadata": {},
   "outputs": [
    {
     "name": "stdout",
     "output_type": "stream",
     "text": [
      "              precision    recall  f1-score   support\n",
      "\n",
      "           1       0.93      0.82      0.87        17\n",
      "           2       1.00      0.90      0.95        10\n",
      "           3       0.93      1.00      0.97        14\n",
      "           5       0.93      1.00      0.97        14\n",
      "           6       1.00      1.00      1.00        13\n",
      "           7       0.94      1.00      0.97        16\n",
      "\n",
      "    accuracy                           0.95        84\n",
      "   macro avg       0.96      0.95      0.95        84\n",
      "weighted avg       0.95      0.95      0.95        84\n",
      "\n"
     ]
    }
   ],
   "source": [
    "print(classification_report(y_test,pred))"
   ]
  },
  {
   "cell_type": "code",
   "execution_count": 346,
   "id": "2244ee76",
   "metadata": {},
   "outputs": [
    {
     "name": "stdout",
     "output_type": "stream",
     "text": [
      "[0.92857143 0.97619048 0.97619048 0.91666667 0.83333333]\n",
      "<built-in method mean of numpy.ndarray object at 0x000001B7E7B28C90>\n",
      "0.05238095238095236\n"
     ]
    }
   ],
   "source": [
    "cross_val= cross_val_score(dtc,trainx,trainy,cv=5)\n",
    "print(cross_val)\n",
    "print(cross_val.mean)\n",
    "print(cross_val.std())"
   ]
  },
  {
   "cell_type": "code",
   "execution_count": 347,
   "id": "26d7efe9",
   "metadata": {},
   "outputs": [
    {
     "data": {
      "text/plain": [
       "0.9285714285714286"
      ]
     },
     "execution_count": 347,
     "metadata": {},
     "output_type": "execute_result"
    }
   ],
   "source": [
    "knn.score(x_test, y_test)"
   ]
  },
  {
   "cell_type": "code",
   "execution_count": 348,
   "id": "39c67d60",
   "metadata": {},
   "outputs": [
    {
     "data": {
      "text/plain": [
       "0.9523809523809523"
      ]
     },
     "execution_count": 348,
     "metadata": {},
     "output_type": "execute_result"
    }
   ],
   "source": [
    "dtc.score(x_test, y_test)\n"
   ]
  },
  {
   "cell_type": "code",
   "execution_count": 349,
   "id": "d88a013b",
   "metadata": {},
   "outputs": [
    {
     "data": {
      "text/plain": [
       "0.8214285714285714"
      ]
     },
     "execution_count": 349,
     "metadata": {},
     "output_type": "execute_result"
    }
   ],
   "source": [
    "mnb.score(x_test, y_test)"
   ]
  },
  {
   "cell_type": "code",
   "execution_count": 350,
   "id": "0d061a9e",
   "metadata": {},
   "outputs": [
    {
     "data": {
      "text/plain": [
       "KNeighborsClassifier()"
      ]
     },
     "execution_count": 350,
     "metadata": {},
     "output_type": "execute_result"
    }
   ],
   "source": [
    "knn=KNeighborsClassifier()\n",
    "knn.fit(x_train,y_train)"
   ]
  },
  {
   "cell_type": "code",
   "execution_count": 351,
   "id": "8ebb5e9e",
   "metadata": {},
   "outputs": [
    {
     "data": {
      "text/plain": [
       "array([7, 2, 2, 5, 1, 3, 2, 6, 7, 7, 3, 5, 3, 5, 1, 1, 7, 6, 3, 3, 1, 6,\n",
       "       1, 7, 5, 2, 2, 7, 1, 2, 1, 5, 6, 5, 1, 5, 7, 1, 6, 1, 3, 7, 5, 6,\n",
       "       3, 7, 7, 6, 3, 5, 5, 3, 2, 3, 6, 6, 3, 7, 6, 6, 3, 3, 3, 5, 7, 1,\n",
       "       7, 1, 7, 2, 7, 6, 1, 6, 3, 7, 3, 3, 2, 5, 7, 5, 5, 2], dtype=int64)"
      ]
     },
     "execution_count": 351,
     "metadata": {},
     "output_type": "execute_result"
    }
   ],
   "source": [
    "pred=knn.predict(x_test)\n",
    "pred"
   ]
  },
  {
   "cell_type": "code",
   "execution_count": 352,
   "id": "c5361022",
   "metadata": {},
   "outputs": [
    {
     "data": {
      "text/plain": [
       "0.9404761904761905"
      ]
     },
     "execution_count": 352,
     "metadata": {},
     "output_type": "execute_result"
    }
   ],
   "source": [
    "knn.score(x_train,y_train)"
   ]
  },
  {
   "cell_type": "code",
   "execution_count": 353,
   "id": "6b7edaf7",
   "metadata": {},
   "outputs": [
    {
     "name": "stdout",
     "output_type": "stream",
     "text": [
      "[[13  0  3  0  0  1]\n",
      " [ 0 10  0  0  0  0]\n",
      " [ 0  0 14  0  0  0]\n",
      " [ 0  0  0 14  0  0]\n",
      " [ 0  0  0  0 13  0]\n",
      " [ 0  0  0  0  0 16]]\n"
     ]
    }
   ],
   "source": [
    "print(confusion_matrix(y_test,pred))"
   ]
  },
  {
   "cell_type": "code",
   "execution_count": 354,
   "id": "76eceb7f",
   "metadata": {},
   "outputs": [
    {
     "name": "stdout",
     "output_type": "stream",
     "text": [
      "[0.92857143 0.96428571 0.92857143 0.82142857 0.86904762]\n",
      "0.9023809523809522\n",
      "0.05073160893491077\n"
     ]
    }
   ],
   "source": [
    "cross_val= cross_val_score(knn,trainx,trainy,cv=5)\n",
    "print(cross_val)\n",
    "print(cross_val.mean())\n",
    "print(cross_val.std())"
   ]
  },
  {
   "cell_type": "markdown",
   "id": "38171003",
   "metadata": {},
   "source": [
    "# Grid search Cv for DTC &SVC "
   ]
  },
  {
   "cell_type": "code",
   "execution_count": 355,
   "id": "826d0264",
   "metadata": {},
   "outputs": [
    {
     "data": {
      "text/plain": [
       "GridSearchCV(cv=5, estimator=DecisionTreeClassifier(),\n",
       "             param_grid={'criterion': ['Gini', 'entropy']})"
      ]
     },
     "execution_count": 355,
     "metadata": {},
     "output_type": "execute_result"
    }
   ],
   "source": [
    "dtc=DecisionTreeClassifier\n",
    "grid_param={\"criterion\":[\"Gini\",\"entropy\"]}\n",
    "clf = GridSearchCV(DecisionTreeClassifier(), grid_param, cv=5)\n",
    "clf.fit(trainx,trainy)"
   ]
  },
  {
   "cell_type": "code",
   "execution_count": 356,
   "id": "085872c2",
   "metadata": {},
   "outputs": [
    {
     "name": "stdout",
     "output_type": "stream",
     "text": [
      "{'criterion': 'entropy'}\n",
      "0.9023809523809524\n",
      "DecisionTreeClassifier(criterion='entropy')\n"
     ]
    }
   ],
   "source": [
    "print(clf.best_params_)\n",
    "print(clf.best_score_)\n",
    "print(clf.best_estimator_)"
   ]
  },
  {
   "cell_type": "code",
   "execution_count": 357,
   "id": "c2df1e90",
   "metadata": {},
   "outputs": [
    {
     "data": {
      "text/plain": [
       "array([7, 2, 2, 5, 1, 3, 2, 6, 7, 1, 3, 5, 3, 5, 1, 1, 7, 6, 3, 3, 1, 6,\n",
       "       1, 7, 5, 2, 2, 7, 1, 2, 1, 5, 6, 5, 1, 5, 7, 1, 6, 1, 3, 7, 5, 6,\n",
       "       3, 7, 7, 6, 3, 5, 5, 3, 2, 1, 6, 6, 3, 7, 6, 6, 3, 3, 3, 5, 7, 1,\n",
       "       7, 1, 7, 2, 7, 6, 1, 6, 3, 7, 1, 1, 2, 5, 7, 5, 5, 2], dtype=int64)"
      ]
     },
     "execution_count": 357,
     "metadata": {},
     "output_type": "execute_result"
    }
   ],
   "source": [
    "grid_predictions = clf.predict(x_test)\n",
    "grid_predictions"
   ]
  },
  {
   "cell_type": "code",
   "execution_count": 358,
   "id": "ecd33c03",
   "metadata": {},
   "outputs": [
    {
     "name": "stdout",
     "output_type": "stream",
     "text": [
      "              precision    recall  f1-score   support\n",
      "\n",
      "           1       1.00      1.00      1.00        17\n",
      "           2       1.00      1.00      1.00        10\n",
      "           3       1.00      1.00      1.00        14\n",
      "           5       1.00      1.00      1.00        14\n",
      "           6       1.00      1.00      1.00        13\n",
      "           7       1.00      1.00      1.00        16\n",
      "\n",
      "    accuracy                           1.00        84\n",
      "   macro avg       1.00      1.00      1.00        84\n",
      "weighted avg       1.00      1.00      1.00        84\n",
      "\n"
     ]
    }
   ],
   "source": [
    "# print classification report\n",
    "print(classification_report(y_test, grid_predictions))"
   ]
  },
  {
   "cell_type": "code",
   "execution_count": 359,
   "id": "33c8426d",
   "metadata": {},
   "outputs": [
    {
     "name": "stdout",
     "output_type": "stream",
     "text": [
      "{'C': 10, 'gamma': 1, 'kernel': 'rbf'}\n"
     ]
    }
   ],
   "source": [
    "from sklearn import svm\n",
    "from sklearn.model_selection import GridSearchCV\n",
    "parameters = {'kernel':('linear', 'rbf','poly', 'sigmoid'), 'C':[0.1, 1, 10, 100,1000],'gamma': [1, 0.1, 0.01, 0.001, 0.0001]}\n",
    "svc = svm.SVC()\n",
    "clf = GridSearchCV(svc, parameters)\n",
    "clf.fit(x_train,y_train)\n",
    "print(clf.best_params_) "
   ]
  },
  {
   "cell_type": "code",
   "execution_count": 360,
   "id": "e8c9fd69",
   "metadata": {},
   "outputs": [
    {
     "name": "stdout",
     "output_type": "stream",
     "text": [
      "Fitting 5 folds for each of 1 candidates, totalling 5 fits\n",
      "[CV 1/5] END ........C=100, gamma=1, kernel=rbf;, score=0.926 total time=   0.0s\n",
      "[CV 2/5] END ........C=100, gamma=1, kernel=rbf;, score=0.955 total time=   0.0s\n",
      "[CV 3/5] END ........C=100, gamma=1, kernel=rbf;, score=0.955 total time=   0.0s\n",
      "[CV 4/5] END ........C=100, gamma=1, kernel=rbf;, score=0.955 total time=   0.0s\n",
      "[CV 5/5] END ........C=100, gamma=1, kernel=rbf;, score=0.985 total time=   0.0s\n"
     ]
    },
    {
     "data": {
      "text/plain": [
       "GridSearchCV(estimator=SVC(),\n",
       "             param_grid={'C': [100], 'gamma': [1], 'kernel': ['rbf']},\n",
       "             verbose=3)"
      ]
     },
     "execution_count": 360,
     "metadata": {},
     "output_type": "execute_result"
    }
   ],
   "source": [
    "param_grid = {'C': [100], 'gamma': [1], 'kernel': ['rbf']}\n",
    "grid = GridSearchCV(SVC(), param_grid, refit = True, verbose = 3)\n",
    "  \n",
    "# fitting the model for grid search\n",
    "grid.fit(x_train, y_train)            "
   ]
  },
  {
   "cell_type": "code",
   "execution_count": 361,
   "id": "815207a5",
   "metadata": {},
   "outputs": [
    {
     "data": {
      "text/plain": [
       "array([7, 2, 2, 5, 1, 3, 2, 6, 7, 7, 3, 5, 3, 5, 2, 1, 7, 6, 3, 3, 1, 6,\n",
       "       1, 7, 5, 2, 2, 7, 1, 2, 1, 5, 6, 5, 1, 5, 7, 1, 6, 1, 3, 7, 5, 6,\n",
       "       3, 7, 7, 6, 3, 5, 5, 3, 2, 1, 6, 6, 3, 7, 6, 6, 3, 3, 3, 5, 7, 3,\n",
       "       7, 1, 7, 2, 7, 6, 1, 6, 3, 7, 1, 1, 2, 5, 7, 5, 5, 2], dtype=int64)"
      ]
     },
     "execution_count": 361,
     "metadata": {},
     "output_type": "execute_result"
    }
   ],
   "source": [
    "grid_predictions = grid.predict(x_test)\n",
    "  \n",
    "grid_predictions"
   ]
  },
  {
   "cell_type": "code",
   "execution_count": 362,
   "id": "f193fbaa",
   "metadata": {
    "scrolled": true
   },
   "outputs": [
    {
     "name": "stdout",
     "output_type": "stream",
     "text": [
      "              precision    recall  f1-score   support\n",
      "\n",
      "           1       1.00      0.82      0.90        17\n",
      "           2       0.91      1.00      0.95        10\n",
      "           3       0.93      1.00      0.97        14\n",
      "           5       1.00      1.00      1.00        14\n",
      "           6       1.00      1.00      1.00        13\n",
      "           7       0.94      1.00      0.97        16\n",
      "\n",
      "    accuracy                           0.96        84\n",
      "   macro avg       0.96      0.97      0.97        84\n",
      "weighted avg       0.97      0.96      0.96        84\n",
      "\n"
     ]
    }
   ],
   "source": [
    "# print classification report\n",
    "print(classification_report(y_test, grid_predictions))"
   ]
  },
  {
   "cell_type": "code",
   "execution_count": 363,
   "id": "a1e1e1bc",
   "metadata": {},
   "outputs": [
    {
     "data": {
      "image/png": "[encoded data removed]",
      "text/plain": [
       "<Figure size 640x480 with 1 Axes>"
      ]
     },
     "metadata": {},
     "output_type": "display_data"
    }
   ],
   "source": [
    "#prediction through graph\n",
    "plt.scatter(y_test,pred)\n",
    "plt.xlabel('actual')\n",
    "plt.ylabel('predicted')\n",
    "plt.title('actual vs predicted')\n",
    "plt.show()"
   ]
  },
  {
   "cell_type": "code",
   "execution_count": 364,
   "id": "e727c962",
   "metadata": {},
   "outputs": [
    {
     "data": {
      "text/plain": [
       "['Glass_Identification_Dataset.obj']"
      ]
     },
     "execution_count": 364,
     "metadata": {},
     "output_type": "execute_result"
    }
   ],
   "source": [
    "#for saving the file\n",
    "import joblib\n",
    "joblib.dump(knn,\"Glass_Identification_Dataset.obj\")"
   ]
  },
  {
   "cell_type": "markdown",
   "id": "ee5926f6",
   "metadata": {},
   "source": [
    "# Finish"
   ]
  }
 ],
 "metadata": {
  "kernelspec": {
   "display_name": "Python 3 (ipykernel)",
   "language": "python",
   "name": "python3"
  },
  "language_info": {
   "codemirror_mode": {
    "name": "ipython",
    "version": 3
   },
   "file_extension": ".py",
   "mimetype": "text/x-python",
   "name": "python",
   "nbconvert_exporter": "python",
   "pygments_lexer": "ipython3",
   "version": "3.9.15"
  }
 },
 "nbformat": 4,
 "nbformat_minor": 5
}
